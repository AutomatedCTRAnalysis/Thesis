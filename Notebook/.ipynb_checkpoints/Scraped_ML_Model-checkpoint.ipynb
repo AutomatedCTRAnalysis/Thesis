{
 "cells": [
  {
   "cell_type": "code",
   "execution_count": 48,
   "id": "4fb32838",
   "metadata": {},
   "outputs": [],
   "source": [
    "from sklearn.feature_extraction.text import CountVectorizer, TfidfVectorizer # matrix construction\n",
    "from sklearn.model_selection import train_test_split\n",
    "from sklearn.metrics import classification_report, confusion_matrix, f1_score, fbeta_score\n",
    "from sklearn.naive_bayes import MultinomialNB\n",
    "from sklearn.svm import LinearSVC\n",
    "from sklearn.multiclass import OneVsRestClassifier\n",
    "from sklearn.metrics import multilabel_confusion_matrix, plot_confusion_matrix, classification_report\n",
    "from sklearn.preprocessing import MultiLabelBinarizer\n",
    "\n",
    "import pandas as pd\n",
    "import json\n",
    "import os\n",
    "import re\n",
    "\n",
    "import spacy\n",
    "import matplotlib\n",
    "import plotly.express as px\n",
    "import plotly.subplots as sp\n",
    "from plotly.subplots import make_subplots\n",
    "from ast import literal_eval\n",
    "from tqdm import tqdm\n",
    "\n",
    "import sklearn.metrics\n",
    "import numpy as np"
   ]
  },
  {
   "cell_type": "code",
   "execution_count": 2,
   "id": "db71ca8d",
   "metadata": {},
   "outputs": [],
   "source": [
    "tqdm.pandas()"
   ]
  },
  {
   "cell_type": "code",
   "execution_count": 3,
   "id": "e7a9978e",
   "metadata": {},
   "outputs": [],
   "source": [
    "nlp = spacy.load(\"en_core_web_sm\", disable=['parser','tagger', 'parser', 'ner']) "
   ]
  },
  {
   "cell_type": "markdown",
   "id": "3e89ed63",
   "metadata": {},
   "source": [
    "# Opening Files: "
   ]
  },
  {
   "cell_type": "code",
   "execution_count": 23,
   "id": "afd4a1ae",
   "metadata": {},
   "outputs": [],
   "source": [
    "dataset = \"training_dataset_full.csv\"\n",
    "path_data =  \"../src/training_dataset_full.csv\"\n",
    "\n",
    "# Converting to Data Frames: \n",
    "\n",
    "df = pd.read_csv(path_data).reset_index(drop = True)"
   ]
  },
  {
   "cell_type": "code",
   "execution_count": 24,
   "id": "eb925cc9",
   "metadata": {},
   "outputs": [
    {
     "name": "stderr",
     "output_type": "stream",
     "text": [
      "100%|██████████| 1520/1520 [00:00<00:00, 39928.74it/s]\n",
      "100%|██████████| 1520/1520 [00:00<00:00, 20090.45it/s]\n",
      "100%|██████████| 1520/1520 [00:00<00:00, 17099.77it/s]\n",
      "100%|██████████| 1520/1520 [00:00<00:00, 31302.31it/s]\n",
      "100%|██████████| 1520/1520 [00:00<00:00, 43115.96it/s]\n"
     ]
    }
   ],
   "source": [
    "# Converting from string to list using literal_eval:\n",
    "\n",
    "for col in ['mitre_domain', 'tech_name', 'tech_id', 'tactic_id', 'software_id']:\n",
    "    df[col] = df[col].progress_apply(literal_eval)"
   ]
  },
  {
   "cell_type": "code",
   "execution_count": 76,
   "id": "5cdcd2b8",
   "metadata": {},
   "outputs": [],
   "source": [
    "# df = df.explode(['tech_id']).reset_index(drop = True)"
   ]
  },
  {
   "cell_type": "code",
   "execution_count": 12,
   "id": "0bba5719",
   "metadata": {},
   "outputs": [
    {
     "name": "stderr",
     "output_type": "stream",
     "text": [
      "100%|██████████| 1520/1520 [00:22<00:00, 67.81it/s]\n"
     ]
    }
   ],
   "source": [
    "# Removing non-alphabetical words:\n",
    "\n",
    "def preprocess(text):\n",
    "    return re.sub(r'[^a-zA-Z]', ' ', text)\n",
    "\n",
    "df['text'] = df['text'].progress_apply(preprocess)"
   ]
  },
  {
   "cell_type": "markdown",
   "id": "84501c94",
   "metadata": {},
   "source": [
    "# Malware Extraction:"
   ]
  },
  {
   "cell_type": "code",
   "execution_count": 13,
   "id": "ec258431",
   "metadata": {},
   "outputs": [],
   "source": [
    "# To prevent overfit, we extract all malware names in a list: \n",
    "\n",
    "malware_names = []\n",
    "\n",
    "root_folder = '../data/'\n",
    "folder_names = ['ics-malware', 'malware']\n",
    "for folder_name in folder_names: \n",
    "    folder = os.path.join(root_folder, folder_name)\n",
    "    for filename in os.listdir(folder): \n",
    "        if filename.endswith('.json'):\n",
    "            with open(os.path.join(folder, filename)) as file:\n",
    "                file_json = json.load(file)[\"objects\"][0]\n",
    "                    \n",
    "                # retrieve information:\n",
    "                if 'x_mitre_aliases' in file_json:\n",
    "                    malware_names.extend(file_json['x_mitre_aliases']) \n",
    "               \n",
    "                malware_names.append(file_json['name'])\n",
    "                \n",
    "                pass\n",
    "            pass\n",
    "        pass\n",
    "    pass\n",
    "pass\n",
    "                    \n"
   ]
  },
  {
   "cell_type": "code",
   "execution_count": 14,
   "id": "ba6f9ec0",
   "metadata": {},
   "outputs": [
    {
     "name": "stdout",
     "output_type": "stream",
     "text": [
      "{'OSX.Bundlore', 'Homux', 'FALLCHILL', 'NeD Worm', 'Epic', 'GreyEnergy', 'Retefe', '4H RAT', 'BotgenStudios', 'Wipbot', 'SLOWDRIFT', 'Crutch', 'OSX/Keydnap', 'Darkmoon', 'Mespinoza', 'Emissary', 'Black Energy', 'ZxShell', 'BS2005', 'Vasport', 'Felismus', 'RGDoor', 'HTTPBrowser', 'Backdoor.Nidiran', 'KGH_SPY ', 'Kessel', 'RemoteCMD', 'WEBC2', 'Sednit', 'Neoichor', 'Clambling', 'ROCKBOOT', 'Nebulae', 'Penquin_x64', 'HALFBAKED', 'PowerPunch', 'Diavol', 'ASPXTool', 'TinyZBot', 'xCaon', 'TVT', 'Sakurel', 'BabyShark', 'RogueRobin', 'Flame', 'Korplug', 'Cozer', 'BoomBox', 'Zekapab', 'dfls', 'Win32/KillDisk.NBI', 'Seasalt', 'Kazuar', 'POORAIM', 'QakBot', 'BUGJUICE', 'P.A.S. Webshell', 'StrongPity', 'Pony', 'Sasfis', 'HyperSSL', 'MdmBot', 'Linux Rabbit', 'Wiper', 'TajMahal', 'NanoCore', 'QuietSieve', 'StoneDrill', 'GravityRAT', 'SodaMaster', 'BADCALL', 'FLIPSIDE', 'Get2', 'EVILTOSS', 'Carbanak', 'Gazer', 'GuLoader', 'Trojan.Karagany', 'KEYMARBLE', 'Ixeshe', 'Ferocious', 'ThiefQuest', 'Okrum', 'Win32/KillDisk.NBC', 'RDAT', 'FYNLOS', 'SUNBURST', 'Reaver', 'RobbinHood', 'BONDUPDATER', 'Penquin 2.0', 'Sodinokibi', 'ECCENTRICBANDWAGON', 'Ecipekac', 'Thoper', 'Mosquito', 'Killdisk', 'Disttrack', 'P2P ZeuS', 'FELIXROOT', 'OSX/Shlayer', 'TrailBlazer', 'ZoxRPC', 'Ramsay', 'MESSAGETAP', 'Trojan.Killdisk', 'TEARDROP', 'Dacls', 'WinMM', 'TINYTYPHON', 'TSCookie', 'ShadowPad', 'Grandoreiro', 'HttpDump', 'Lokibot', 'Hikit', 'XAgentOSX', 'ABK', 'Njw0rm', 'ACAD/Medre.A', 'Dridex', 'LV', 'Skeleton Key', 'WorldCupSec', 'VERMIN', 'Attor', 'SysUpdate', 'MacSpy', 'Maze', 'DealersChoice', 'RunningRAT', 'Turian', 'Brave Prince', 'GreyEnergy mini', 'SharpStage', 'RawPOS', 'Backdoor.SofacyX', 'Dok', 'Pirpi', 'MiniDuke', 'Downadup', 'ISMInjector', 'Egregor', 'Cadelspy', 'BBK', 'YAHOYAH', 'Sakula', 'Helminth', 'Babyk', 'Carberp', 'HOMEFRY', 'X-Tunnel', 'MegaCortex', 'Starloader', 'Gelsemine', 'AppleJeus', 'Industroyer', 'BlackMould', 'MacRansom.K', 'Taidoor', 'Dtrack', 'BoxCaon', 'Hildegard', 'SLOTHFULMEDIA', 'S-Type', 'ADVSTORESHELL', 'POSHSPY', 'SEASHARPEE', 'Babuk', 'XCSSET', 'Stuxnet', 'Crimson', 'GreetCake', 'CosmicDuke', 'CRASHOVERRIDE', 'Lecna', 'Triton', 'BUBBLEWRAP', 'WannaCry', 'Explosive', 'down_new', 'SigLoader', 'Fysbis', 'Dofoil', 'Naid', 'PoisonIvy', 'LoudMiner', 'SOUNDBITE', 'Cryptoistic', 'Final1stspy', 'Rover', 'JKEYSKW', 'HAMMERTOSS', 'X-Agent', 'HEAVYHAND', 'McRat', 'ZeroT', 'WhiteBear', 'SHOTPUT', 'Aurora', 'Win32/Diskcoder.D', 'EKANS', 'Petrwrap', 'FIENDCRY', 'Samas', 'KARAE', 'Guildma', 'WhisperGate', 'AuditCred', 'SHIPSHAPE', 'HyperStack', 'Ebury', '3PARA RAT', 'Skidmap', 'Peer-to-Peer ZeuS', 'Winnti for Linux', 'China Chopper', 'Nidiran', 'Scorpion', 'TadjMakhal', 'PSVC', 'Cobalt Strike', 'Ngrok', 'KGH_SPY', 'Casbaneiro', 'Orz', 'UBoatRAT', 'Redaman', 'FLASHFLOOD', 'Zshlayer', 'SeaDaddy', 'StreamEx', 'Lizar', 'Sogu', 'Mivast', 'MSIL/Crimson', 'Machete', 'ExPetr', 'ShimRat', 'TinyTurla', 'PipeMon', 'Anunak', 'REvil', 'Pasam', 'WellMess', 'Zox', 'DEATHRANSOM', 'Token Control', 'FriedEx', 'Penquin', 'WindTail', 'Flamer', 'Hi-Zor', 'EvilQuest', 'JSocket', 'Tirion', 'NETWIRE', 'Remexi', 'Trojan.Maljava', 'DRIFTWOOD', 'Prikormka', 'NativeZone', 'XTunnel', 'Solorigate', 'Dyzap', 'Bisonal', 'MobileOrder', 'LookBack', 'CozyCar', 'RARSTONE', 'EnvyScout', 'Gelsevirine', 'Trojan.Mebromi', 'Calisto', 'CALENDAR', 'SpeakUp', 'Win32/USBStealer', 'Chrommme', 'DarkWatchman', 'UPPERCUT', 'MURKYTOP', 'Conti', 'Lucifer', 'BlackEnergy', 'GrimAgent', 'Trojan.GTALK', 'LightNeuron', 'NetDuke', 'Metamorfo', 'JHUHUGIT', 'Gresim', 'Adwind', 'Pteranodon', 'Hydraq', 'HARDRAIN', 'Pay2Key', 'FOCUSFJORD', 'SYNful Knock', 'Volgmer', 'OSX/MacDownloader', 'EvilGrab', 'Backdoor.Remsec', 'Win32/KillDisk.NBB', 'SNAKEHOSE', 'GoldenEye', 'WanaCrypt0r', 'Peppy', 'CookieMiner', 'Win32/Industroyer', 'zwShell', 'Backdoor.APT.FakeWinHTTPHelper', 'Flagpro ', 'PUNCHBUGGY', 'PowerDuke', 'AppleSeed', 'Kinsing', 'DUEBREW', 'RegDuke', 'ProjectSauron', 'AutoIt backdoor', 'Gozi-ISFB', 'PinchDuke', 'Ursnif', 'ROKRAT', 'Truvasys', 'Dreambot', 'yty', 'Bad Rabbit', 'Azorult', 'Netwalker', 'Melcoz', 'FatDuke', 'Pterodo', 'Javali', 'CallMe', 'Pillowmint', 'Umbreon', 'TrickBot', 'PLAINTEE', 'RATANKBA', 'Conficker', 'BADNEWS', 'PS1 ', 'KOMPROGO', 'SQLRat', 'Gameover ZeuS', 'FlawedGrace', 'WINERACK', 'Misdat', 'Sys10', 'DESLoader', 'SoreFang', 'NavRAT', 'Fynloski', 'PLEAD', 'BLACKCOFFEE', 'BADFLICK', 'SHUTTERSPEED', 'POWRUNER', 'NDiskMonitor', 'Mydoor', 'Sofacy', 'SDBbot', 'WCry', 'Dyre', 'Delphacy', 'Uroburos', 'Kerrdown', 'FakeM', 'W32.Stuxnet', 'njRAT', 'NotPetya', 'Nyetya', 'Xagent', 'LOWBALL', 'Zeroaccess', 'SeaDuke', 'Seth-Locker', 'Poison Ivy', 'NetTraveler', 'SamSam', 'LitePower', 'Drovorub', 'Agent Tesla', 'Ryuk', 'Bugat v5', 'Komplex', 'Smoke Loader', 'SUNSHUTTLE', 'Socksbot', 'Anchor_DNS', 'Gelsemium', '9002 RAT', 'CozyDuke', 'TSPY_TRICKLOAD', 'Gold Dragon', 'InnaputRAT', 'Torisma', 'SUNSPOT', 'jFrutas', 'Emotet', 'jRAT', 'BOOSTWRITE', 'SPLM', 'Comnie', 'Micropsia', 'Seduploader', 'Hacking Team UEFI Rootkit', 'SOURFACE', 'Kido', 'RainyDay', 'CHOPSTICK', 'HDoor', 'PowerShower', 'QUADAGENT', 'Krademok', 'WarzoneRAT', 'Frutas', 'OSInfo', 'OSX.DubRobber', 'GAMEFISH', 'AZZY', 'POISONPLUG.SHADOW', 'Soldier', 'ZoxPNG', 'NETEAGLE', 'Duqu', 'ServHelper', 'OnionDuke', 'KONNI', 'FinFisher', 'Pisloader', 'Agent.btz', 'FinSpy', 'DriveSlayer', 'KeyBoy', 'FrameworkPOS', 'Warzone', 'HEAVYPOT', 'QueenOfClubs', 'AlienSpy', 'WellMail', 'Hancitor', 'Team9', 'Winnti for Windows', 'DDKONG', 'DarkKomet', 'Psylo', 'SKID', 'SPACESHIP', 'HAPPYWORK', 'AIRBREAK', 'Kivars', 'FruitFly', 'sKyWIper', 'Powermud', 'PolyglotDuke', 'DarkComet', 'RDFSNIFFER', 'FYAnti', 'ComRAT', 'TRITON', 'VPNFilter', 'TDTESS', 'PUNCHTRACK', 'Chaos', 'ThreatNeedle', 'CostaBricks', 'Power Loader', 'Bundlore', 'Waterbear', 'InvisiMole', 'Karagany', 'Sensocode', 'Goopy', 'RedLeaves', 'PS1', 'HatMan', 'RCSession', 'Pyark', 'Backdoor.MacOS.OCEANLOTUS.F', 'Unrecom', 'Diskcoder.D', 'MiniDionis', 'Cobian RAT', 'jBiFrost', 'Clop', 'HydraQ', 'P8RAT', 'Fobushell', 'Rifdoor', 'Exaramel for Windows', 'HOPLIGHT', 'LoJax', 'Daserf', 'Avenger', 'Totbrick', 'DARKTOWN', 'HIDEDRV', 'DILLJUICE stage2', 'hcdLoader', 'Geodo', 'IcedID', 'Nioupale', 'Roptimizer', 'FlawedAmmyy', 'SynAck', 'CharmPower', 'PHOTO', 'BACKSPACE', 'ELMER', 'Matryoshka', 'Meteor', 'PLC-Blaster', 'Doki', 'Backdoor.Oldrea', 'ObliqueRAT', 'Miner-C', 'Xbash', 'CaddyWiper', 'Win32/KillDisk.NBH', 'HomeUnix', 'RDAT ', 'Backdoor.APT.CookieCutter', 'Kwampirs', 'CloudLook', 'CARROTBAT', 'Trojan Manuscript', 'PlugX', 'BadPatch', 'Valak', 'Aria-body', 'OwaAuth', 'HammerDuke', 'USB Stealer', 'Exaramel for Linux', 'Briba', 'GoldFinder', 'TYPEFRAME', 'Sodin', 'EuroAPT', 'Cuba', 'Downdelph', 'webhp', 'DROPSHOT', 'Enfal', 'POWERSOURCE', 'Mis-Type', 'HermeticWizard', 'Chanitor', 'pngdowner', 'HermeticWiper', 'BLUELIGHT', 'CORESHELL', 'HAYMAKER', 'TEXTMATE', 'NemesisGemina', 'Raindrop', 'WanaCrypt', 'Trojan.Sofacy', 'CozyBear', 'Linfo', 'Ave Maria', 'TURNEDUP', 'KEGTAP', 'Olympic Destroyer', 'CORALDECK', 'MarkiRAT', 'POWERSTATS', 'httpclient', 'Regin', 'H1N1', 'LiteDuke', 'BOOTRASH', 'PE_URSNIF', 'xFrost', 'Muirim', 'HidraQ', 'build_downer', 'Sibot', 'Elise', 'TRISIS', 'Diskcoder.C', 'Dyreza', 'Page', 'Unknown Logger', 'RIPTIDE', 'DOGCALL', 'Carbon', 'Win32/KillDisk.NBD', 'POWERTON', 'VaporRage', 'ProLock', 'Tavdig', 'GeminiDuke', 'FIVEHANDS', 'Cherry Picker', 'Proton', 'More_eggs', 'Rising Sun', 'HyperBro', 'Keydnap', 'USBferry', 'Remsec', 'SslMM', 'Flagpro', 'CloudDuke', 'Pinkslipbot', 'Cardinal RAT', 'Kasidet', 'Breut', 'BendyBear', 'SeaDesk', 'Gelsenicine', 'LockerGoga', 'SideTwist', 'Wingbird', 'Crossrider', 'WanaCry', 'HotCroissant', 'DownPaper', 'Octopus', 'BLINDINGCAN', 'JCry', 'Sockrat', 'DustySky', 'VBShower', 'KOCTOPUS', 'OSX_OCEANLOTUS.D', 'XAPS', 'Revenge RAT', 'EvilBunny', 'Pysa', 'RTM', 'Zeus Panda', 'Astaroth', 'Anchor', 'MirageFox', 'DNSMessenger', 'MechaFlounder', 'Tomiris', 'BitPaymer', 'SUPERNOVA', 'ChChes', 'QuackBot', 'VIPER', 'NOKKI', 'Derusbi', 'SHARPSTATS', 'HELLOKITTY', 'NanHaiShu', 'Kobalos', 'Green Lambert', 'Catchamas', 'ShellTea', 'PHOREAL', 'BlackEnergy 3', 'Shamoon', 'JackOfHearts', 'gh0st RAT', 'Trojan.Shunnael', 'Nerex', 'NETUI', 'DelfsCake', 'Proxysvc', 'WastedLocker', 'SNUGRIDE', 'BISCUIT', 'Bandook', 'ASPXSpy', 'QBot', 'CoinTicker', 'OopsIE', 'HAWKBALL', 'MoleNet', 'JSS Loader', 'CCBkdr', 'USBStealer', 'Zebrocy', 'Vasa Locker', 'OceanSalt', 'GoldenSpy', 'Chaes', 'Cannon', 'Wiarp', 'PoetRAT', 'adbupd', 'DestroyRAT', 'NetC', 'Bladabindi', 'SofacyCarberp', 'FoggyWeb', 'wp_encrypt', 'Avaddon', 'Moudoor', 'Net Crawler', 'WINDSHIELD', 'Terra Loader', 'SombRAT', 'T9000', 'OSX.Sofacy', 'SYSCON', 'Bonadan', 'Janicab', 'EVILNUM', 'Dipsind', 'ANEL', 'Sykipot', 'Sedreco', 'KillDisk', 'TinyBaron', 'Kaba', 'TAINTEDSCRIBE', 'Lurid', 'SpicyOmelette', 'iKitten', 'BBSRAT', 'Caterpillar WebShell', 'Pandora', 'OLDBAIT', 'Denis', 'Spark', 'Custom HDoor', 'DRATzarus', 'DropBook', 'GoldMax', 'Trinity', 'SMOKEDHAM', 'CrossRAT', 'ZLib', 'Ragnar Locker', 'PowerStallion', 'MoonWind', 'Bazar', 'Roarur', 'Havex', 'Bankshot', 'GLOOXMAIL', 'HiddenWasp', 'GRIFFON', 'BackConfig', 'JPIN', 'Cyclops Blink', 'BKDR_ESILE', 'Siloscape'}\n"
     ]
    }
   ],
   "source": [
    "malware_names = set(malware_names)\n",
    "print(malware_names)"
   ]
  },
  {
   "cell_type": "code",
   "execution_count": 15,
   "id": "e38c1f77",
   "metadata": {},
   "outputs": [
    {
     "name": "stderr",
     "output_type": "stream",
     "text": [
      "100%|██████████| 1520/1520 [07:04<00:00,  3.58it/s] \n"
     ]
    }
   ],
   "source": [
    "# Replace malware names with generic terms: \n",
    "malware_regex = r'(\\b' + r'\\b|\\b'.join(malware_names) + r'\\b)'\n",
    "def replace_malware(text):\n",
    "    return re.sub(malware_regex, ' MALWARE_NAME ', text, 0, re.IGNORECASE)\n",
    "df['text'] = df['text'].progress_apply(replace_malware)"
   ]
  },
  {
   "cell_type": "code",
   "execution_count": 16,
   "id": "2e8a7bab",
   "metadata": {},
   "outputs": [
    {
     "name": "stderr",
     "output_type": "stream",
     "text": [
      "100%|██████████| 1520/1520 [00:00<00:00, 280691.33it/s]\n"
     ]
    },
    {
     "data": {
      "text/plain": [
       "0              [T1487, T1485, T1561, T1058, T1574, T1031]\n",
       "1                            [T1487, T1036, T1485, T1561]\n",
       "2       [T1487, T1485, T1561, T1059, T1485, T1070, T11...\n",
       "3                                   [T1487, T1485, T1561]\n",
       "4                                                 [T1555]\n",
       "                              ...                        \n",
       "1515    [T1123, T1547, T1059, T1555, T1025, T1083, T10...\n",
       "1516    [T1071, T1547, T1059, T1070, T1105, T1027, T1218]\n",
       "1517                                              [T1573]\n",
       "1518    [T1071, T1560, T1059, T1140, T1105, T1505, T1033]\n",
       "1519    [T1071, T1119, T1547, T1115, T1059, T1132, T10...\n",
       "Name: tech_id, Length: 1520, dtype: object"
      ]
     },
     "execution_count": 16,
     "metadata": {},
     "output_type": "execute_result"
    }
   ],
   "source": [
    "# Merge techniques and subtechniques togethere:\n",
    "\n",
    "def remove_sub_techs(techs):\n",
    "    for i, t in enumerate(techs):\n",
    "        if '.' in t:\n",
    "            techs[i] = t.split('.')[0]\n",
    "    return techs\n",
    "df['tech_id'].progress_apply(remove_sub_techs)"
   ]
  },
  {
   "cell_type": "code",
   "execution_count": 17,
   "id": "fed81796",
   "metadata": {},
   "outputs": [],
   "source": [
    "df.to_csv('merged_dataset_noMalwareNames.csv', index=False)"
   ]
  },
  {
   "cell_type": "markdown",
   "id": "fa83e76c",
   "metadata": {},
   "source": [
    "# Feature Extraction:"
   ]
  },
  {
   "cell_type": "code",
   "execution_count": 25,
   "id": "b3955960",
   "metadata": {},
   "outputs": [
    {
     "name": "stderr",
     "output_type": "stream",
     "text": [
      "/Users/liviafries/opt/anaconda3/envs/auto_cti/lib/python3.8/site-packages/sklearn/utils/deprecation.py:87: FutureWarning:\n",
      "\n",
      "Function get_feature_names is deprecated; get_feature_names is deprecated in 1.0 and will be removed in 1.2. Please use get_feature_names_out instead.\n",
      "\n"
     ]
    }
   ],
   "source": [
    "# ------------ Count Vectorizer --------------- \n",
    "\n",
    "# cv = CountVectorizer(analyzer='word', stop_words='english', lowercase=False,\n",
    "                        #min_df=0.01) # if words used less than 0.001 % --> ignore  \n",
    "# data = cv.fit_transform(df_tech['text']) \n",
    "\n",
    "# df_dtm = pd.DataFrame(data.toarray(), columns=cv.get_feature_names())\n",
    "\n",
    "# ---------------- TF-IDF ---------------------: \n",
    "\n",
    "\n",
    "tf_idf = TfidfVectorizer(analyzer = 'word', stop_words='english', lowercase=True, min_df=2, max_df=0.99)\n",
    "\n",
    "data = tf_idf.fit_transform(df['text'])\n",
    "\n",
    "X = pd.DataFrame(data.toarray(), columns=tf_idf.get_feature_names()) \n",
    "\n"
   ]
  },
  {
   "cell_type": "code",
   "execution_count": 26,
   "id": "a9514371",
   "metadata": {},
   "outputs": [],
   "source": [
    "# Multi Label Binarizer: \n",
    "\n",
    "mlb = MultiLabelBinarizer()\n",
    "Y = mlb.fit_transform(df['tactic_id'])\n",
    "Y = pd.DataFrame(Y, columns=mlb.classes_)"
   ]
  },
  {
   "cell_type": "code",
   "execution_count": 8,
   "id": "19ec3640",
   "metadata": {},
   "outputs": [],
   "source": [
    "#Y = df['tech_id']"
   ]
  },
  {
   "cell_type": "code",
   "execution_count": 27,
   "id": "28b49b47",
   "metadata": {},
   "outputs": [
    {
     "data": {
      "text/html": [
       "<div>\n",
       "<style scoped>\n",
       "    .dataframe tbody tr th:only-of-type {\n",
       "        vertical-align: middle;\n",
       "    }\n",
       "\n",
       "    .dataframe tbody tr th {\n",
       "        vertical-align: top;\n",
       "    }\n",
       "\n",
       "    .dataframe thead th {\n",
       "        text-align: right;\n",
       "    }\n",
       "</style>\n",
       "<table border=\"1\" class=\"dataframe\">\n",
       "  <thead>\n",
       "    <tr style=\"text-align: right;\">\n",
       "      <th></th>\n",
       "      <th>aa</th>\n",
       "      <th>aaa</th>\n",
       "      <th>aaaa</th>\n",
       "      <th>aaaaa</th>\n",
       "      <th>aaaaaa</th>\n",
       "      <th>aaaaaaaaaaaaaaaaaaaaaa</th>\n",
       "      <th>aaaab</th>\n",
       "      <th>aaab</th>\n",
       "      <th>aaac</th>\n",
       "      <th>aaad</th>\n",
       "      <th>...</th>\n",
       "      <th>zzy</th>\n",
       "      <th>zzyx</th>\n",
       "      <th>zzz</th>\n",
       "      <th>zzzb</th>\n",
       "      <th>zzzd</th>\n",
       "      <th>zzzh</th>\n",
       "      <th>zzzj</th>\n",
       "      <th>zzzl</th>\n",
       "      <th>zzzz</th>\n",
       "      <th>zzzzzz</th>\n",
       "    </tr>\n",
       "  </thead>\n",
       "  <tbody>\n",
       "    <tr>\n",
       "      <th>0</th>\n",
       "      <td>0.000000</td>\n",
       "      <td>0.0</td>\n",
       "      <td>0.0</td>\n",
       "      <td>0.0</td>\n",
       "      <td>0.0</td>\n",
       "      <td>0.0</td>\n",
       "      <td>0.0</td>\n",
       "      <td>0.0</td>\n",
       "      <td>0.0</td>\n",
       "      <td>0.0</td>\n",
       "      <td>...</td>\n",
       "      <td>0.0</td>\n",
       "      <td>0.0</td>\n",
       "      <td>0.0</td>\n",
       "      <td>0.0</td>\n",
       "      <td>0.0</td>\n",
       "      <td>0.0</td>\n",
       "      <td>0.0</td>\n",
       "      <td>0.0</td>\n",
       "      <td>0.0</td>\n",
       "      <td>0.0</td>\n",
       "    </tr>\n",
       "    <tr>\n",
       "      <th>1</th>\n",
       "      <td>0.008879</td>\n",
       "      <td>0.0</td>\n",
       "      <td>0.0</td>\n",
       "      <td>0.0</td>\n",
       "      <td>0.0</td>\n",
       "      <td>0.0</td>\n",
       "      <td>0.0</td>\n",
       "      <td>0.0</td>\n",
       "      <td>0.0</td>\n",
       "      <td>0.0</td>\n",
       "      <td>...</td>\n",
       "      <td>0.0</td>\n",
       "      <td>0.0</td>\n",
       "      <td>0.0</td>\n",
       "      <td>0.0</td>\n",
       "      <td>0.0</td>\n",
       "      <td>0.0</td>\n",
       "      <td>0.0</td>\n",
       "      <td>0.0</td>\n",
       "      <td>0.0</td>\n",
       "      <td>0.0</td>\n",
       "    </tr>\n",
       "    <tr>\n",
       "      <th>2</th>\n",
       "      <td>0.011719</td>\n",
       "      <td>0.0</td>\n",
       "      <td>0.0</td>\n",
       "      <td>0.0</td>\n",
       "      <td>0.0</td>\n",
       "      <td>0.0</td>\n",
       "      <td>0.0</td>\n",
       "      <td>0.0</td>\n",
       "      <td>0.0</td>\n",
       "      <td>0.0</td>\n",
       "      <td>...</td>\n",
       "      <td>0.0</td>\n",
       "      <td>0.0</td>\n",
       "      <td>0.0</td>\n",
       "      <td>0.0</td>\n",
       "      <td>0.0</td>\n",
       "      <td>0.0</td>\n",
       "      <td>0.0</td>\n",
       "      <td>0.0</td>\n",
       "      <td>0.0</td>\n",
       "      <td>0.0</td>\n",
       "    </tr>\n",
       "    <tr>\n",
       "      <th>3</th>\n",
       "      <td>0.063673</td>\n",
       "      <td>0.0</td>\n",
       "      <td>0.0</td>\n",
       "      <td>0.0</td>\n",
       "      <td>0.0</td>\n",
       "      <td>0.0</td>\n",
       "      <td>0.0</td>\n",
       "      <td>0.0</td>\n",
       "      <td>0.0</td>\n",
       "      <td>0.0</td>\n",
       "      <td>...</td>\n",
       "      <td>0.0</td>\n",
       "      <td>0.0</td>\n",
       "      <td>0.0</td>\n",
       "      <td>0.0</td>\n",
       "      <td>0.0</td>\n",
       "      <td>0.0</td>\n",
       "      <td>0.0</td>\n",
       "      <td>0.0</td>\n",
       "      <td>0.0</td>\n",
       "      <td>0.0</td>\n",
       "    </tr>\n",
       "    <tr>\n",
       "      <th>4</th>\n",
       "      <td>0.004807</td>\n",
       "      <td>0.0</td>\n",
       "      <td>0.0</td>\n",
       "      <td>0.0</td>\n",
       "      <td>0.0</td>\n",
       "      <td>0.0</td>\n",
       "      <td>0.0</td>\n",
       "      <td>0.0</td>\n",
       "      <td>0.0</td>\n",
       "      <td>0.0</td>\n",
       "      <td>...</td>\n",
       "      <td>0.0</td>\n",
       "      <td>0.0</td>\n",
       "      <td>0.0</td>\n",
       "      <td>0.0</td>\n",
       "      <td>0.0</td>\n",
       "      <td>0.0</td>\n",
       "      <td>0.0</td>\n",
       "      <td>0.0</td>\n",
       "      <td>0.0</td>\n",
       "      <td>0.0</td>\n",
       "    </tr>\n",
       "  </tbody>\n",
       "</table>\n",
       "<p>5 rows × 56375 columns</p>\n",
       "</div>"
      ],
      "text/plain": [
       "         aa  aaa  aaaa  aaaaa  aaaaaa  aaaaaaaaaaaaaaaaaaaaaa  aaaab  aaab  \\\n",
       "0  0.000000  0.0   0.0    0.0     0.0                     0.0    0.0   0.0   \n",
       "1  0.008879  0.0   0.0    0.0     0.0                     0.0    0.0   0.0   \n",
       "2  0.011719  0.0   0.0    0.0     0.0                     0.0    0.0   0.0   \n",
       "3  0.063673  0.0   0.0    0.0     0.0                     0.0    0.0   0.0   \n",
       "4  0.004807  0.0   0.0    0.0     0.0                     0.0    0.0   0.0   \n",
       "\n",
       "   aaac  aaad  ...  zzy  zzyx  zzz  zzzb  zzzd  zzzh  zzzj  zzzl  zzzz  zzzzzz  \n",
       "0   0.0   0.0  ...  0.0   0.0  0.0   0.0   0.0   0.0   0.0   0.0   0.0     0.0  \n",
       "1   0.0   0.0  ...  0.0   0.0  0.0   0.0   0.0   0.0   0.0   0.0   0.0     0.0  \n",
       "2   0.0   0.0  ...  0.0   0.0  0.0   0.0   0.0   0.0   0.0   0.0   0.0     0.0  \n",
       "3   0.0   0.0  ...  0.0   0.0  0.0   0.0   0.0   0.0   0.0   0.0   0.0     0.0  \n",
       "4   0.0   0.0  ...  0.0   0.0  0.0   0.0   0.0   0.0   0.0   0.0   0.0     0.0  \n",
       "\n",
       "[5 rows x 56375 columns]"
      ]
     },
     "execution_count": 27,
     "metadata": {},
     "output_type": "execute_result"
    }
   ],
   "source": [
    "X.head()"
   ]
  },
  {
   "cell_type": "code",
   "execution_count": 28,
   "id": "2fc0c313",
   "metadata": {},
   "outputs": [
    {
     "data": {
      "text/plain": [
       "Index(['aa', 'aaa', 'aaaa', 'aaaaa', 'aaaaaa', 'aaaaaaaaaaaaaaaaaaaaaa',\n",
       "       'aaaab', 'aaab', 'aaac', 'aaad',\n",
       "       ...\n",
       "       'zzy', 'zzyx', 'zzz', 'zzzb', 'zzzd', 'zzzh', 'zzzj', 'zzzl', 'zzzz',\n",
       "       'zzzzzz'],\n",
       "      dtype='object', length=56375)"
      ]
     },
     "execution_count": 28,
     "metadata": {},
     "output_type": "execute_result"
    }
   ],
   "source": [
    "X.columns"
   ]
  },
  {
   "cell_type": "code",
   "execution_count": 29,
   "id": "0d20da3c",
   "metadata": {},
   "outputs": [],
   "source": [
    "y_col_name = 'tactic_id'"
   ]
  },
  {
   "cell_type": "code",
   "execution_count": 30,
   "id": "1558ccea",
   "metadata": {
    "scrolled": true
   },
   "outputs": [
    {
     "data": {
      "text/html": [
       "<div>\n",
       "<style scoped>\n",
       "    .dataframe tbody tr th:only-of-type {\n",
       "        vertical-align: middle;\n",
       "    }\n",
       "\n",
       "    .dataframe tbody tr th {\n",
       "        vertical-align: top;\n",
       "    }\n",
       "\n",
       "    .dataframe thead th {\n",
       "        text-align: right;\n",
       "    }\n",
       "</style>\n",
       "<table border=\"1\" class=\"dataframe\">\n",
       "  <thead>\n",
       "    <tr style=\"text-align: right;\">\n",
       "      <th></th>\n",
       "      <th>aa</th>\n",
       "      <th>aaa</th>\n",
       "      <th>aaaa</th>\n",
       "      <th>aaaaa</th>\n",
       "      <th>aaaaaa</th>\n",
       "      <th>aaaaaaaaaaaaaaaaaaaaaa</th>\n",
       "      <th>aaaab</th>\n",
       "      <th>aaab</th>\n",
       "      <th>aaac</th>\n",
       "      <th>aaad</th>\n",
       "      <th>...</th>\n",
       "      <th>zzyx</th>\n",
       "      <th>zzz</th>\n",
       "      <th>zzzb</th>\n",
       "      <th>zzzd</th>\n",
       "      <th>zzzh</th>\n",
       "      <th>zzzj</th>\n",
       "      <th>zzzl</th>\n",
       "      <th>zzzz</th>\n",
       "      <th>zzzzzz</th>\n",
       "      <th>tactic_id</th>\n",
       "    </tr>\n",
       "  </thead>\n",
       "  <tbody>\n",
       "    <tr>\n",
       "      <th>0</th>\n",
       "      <td>0.000000</td>\n",
       "      <td>0.0</td>\n",
       "      <td>0.0</td>\n",
       "      <td>0.0</td>\n",
       "      <td>0.0</td>\n",
       "      <td>0.0</td>\n",
       "      <td>0.0</td>\n",
       "      <td>0.0</td>\n",
       "      <td>0.0</td>\n",
       "      <td>0.0</td>\n",
       "      <td>...</td>\n",
       "      <td>0.0</td>\n",
       "      <td>0.0</td>\n",
       "      <td>0.0</td>\n",
       "      <td>0.0</td>\n",
       "      <td>0.0</td>\n",
       "      <td>0.0</td>\n",
       "      <td>0.0</td>\n",
       "      <td>0.0</td>\n",
       "      <td>0.0</td>\n",
       "      <td>TA0003</td>\n",
       "    </tr>\n",
       "    <tr>\n",
       "      <th>1</th>\n",
       "      <td>0.000000</td>\n",
       "      <td>0.0</td>\n",
       "      <td>0.0</td>\n",
       "      <td>0.0</td>\n",
       "      <td>0.0</td>\n",
       "      <td>0.0</td>\n",
       "      <td>0.0</td>\n",
       "      <td>0.0</td>\n",
       "      <td>0.0</td>\n",
       "      <td>0.0</td>\n",
       "      <td>...</td>\n",
       "      <td>0.0</td>\n",
       "      <td>0.0</td>\n",
       "      <td>0.0</td>\n",
       "      <td>0.0</td>\n",
       "      <td>0.0</td>\n",
       "      <td>0.0</td>\n",
       "      <td>0.0</td>\n",
       "      <td>0.0</td>\n",
       "      <td>0.0</td>\n",
       "      <td>TA0004</td>\n",
       "    </tr>\n",
       "    <tr>\n",
       "      <th>2</th>\n",
       "      <td>0.000000</td>\n",
       "      <td>0.0</td>\n",
       "      <td>0.0</td>\n",
       "      <td>0.0</td>\n",
       "      <td>0.0</td>\n",
       "      <td>0.0</td>\n",
       "      <td>0.0</td>\n",
       "      <td>0.0</td>\n",
       "      <td>0.0</td>\n",
       "      <td>0.0</td>\n",
       "      <td>...</td>\n",
       "      <td>0.0</td>\n",
       "      <td>0.0</td>\n",
       "      <td>0.0</td>\n",
       "      <td>0.0</td>\n",
       "      <td>0.0</td>\n",
       "      <td>0.0</td>\n",
       "      <td>0.0</td>\n",
       "      <td>0.0</td>\n",
       "      <td>0.0</td>\n",
       "      <td>TA0005</td>\n",
       "    </tr>\n",
       "    <tr>\n",
       "      <th>3</th>\n",
       "      <td>0.000000</td>\n",
       "      <td>0.0</td>\n",
       "      <td>0.0</td>\n",
       "      <td>0.0</td>\n",
       "      <td>0.0</td>\n",
       "      <td>0.0</td>\n",
       "      <td>0.0</td>\n",
       "      <td>0.0</td>\n",
       "      <td>0.0</td>\n",
       "      <td>0.0</td>\n",
       "      <td>...</td>\n",
       "      <td>0.0</td>\n",
       "      <td>0.0</td>\n",
       "      <td>0.0</td>\n",
       "      <td>0.0</td>\n",
       "      <td>0.0</td>\n",
       "      <td>0.0</td>\n",
       "      <td>0.0</td>\n",
       "      <td>0.0</td>\n",
       "      <td>0.0</td>\n",
       "      <td>TA0040</td>\n",
       "    </tr>\n",
       "    <tr>\n",
       "      <th>4</th>\n",
       "      <td>0.008879</td>\n",
       "      <td>0.0</td>\n",
       "      <td>0.0</td>\n",
       "      <td>0.0</td>\n",
       "      <td>0.0</td>\n",
       "      <td>0.0</td>\n",
       "      <td>0.0</td>\n",
       "      <td>0.0</td>\n",
       "      <td>0.0</td>\n",
       "      <td>0.0</td>\n",
       "      <td>...</td>\n",
       "      <td>0.0</td>\n",
       "      <td>0.0</td>\n",
       "      <td>0.0</td>\n",
       "      <td>0.0</td>\n",
       "      <td>0.0</td>\n",
       "      <td>0.0</td>\n",
       "      <td>0.0</td>\n",
       "      <td>0.0</td>\n",
       "      <td>0.0</td>\n",
       "      <td>TA0005</td>\n",
       "    </tr>\n",
       "    <tr>\n",
       "      <th>...</th>\n",
       "      <td>...</td>\n",
       "      <td>...</td>\n",
       "      <td>...</td>\n",
       "      <td>...</td>\n",
       "      <td>...</td>\n",
       "      <td>...</td>\n",
       "      <td>...</td>\n",
       "      <td>...</td>\n",
       "      <td>...</td>\n",
       "      <td>...</td>\n",
       "      <td>...</td>\n",
       "      <td>...</td>\n",
       "      <td>...</td>\n",
       "      <td>...</td>\n",
       "      <td>...</td>\n",
       "      <td>...</td>\n",
       "      <td>...</td>\n",
       "      <td>...</td>\n",
       "      <td>...</td>\n",
       "      <td>...</td>\n",
       "      <td>...</td>\n",
       "    </tr>\n",
       "    <tr>\n",
       "      <th>4893</th>\n",
       "      <td>0.000000</td>\n",
       "      <td>0.0</td>\n",
       "      <td>0.0</td>\n",
       "      <td>0.0</td>\n",
       "      <td>0.0</td>\n",
       "      <td>0.0</td>\n",
       "      <td>0.0</td>\n",
       "      <td>0.0</td>\n",
       "      <td>0.0</td>\n",
       "      <td>0.0</td>\n",
       "      <td>...</td>\n",
       "      <td>0.0</td>\n",
       "      <td>0.0</td>\n",
       "      <td>0.0</td>\n",
       "      <td>0.0</td>\n",
       "      <td>0.0</td>\n",
       "      <td>0.0</td>\n",
       "      <td>0.0</td>\n",
       "      <td>0.0</td>\n",
       "      <td>0.0</td>\n",
       "      <td>TA0005</td>\n",
       "    </tr>\n",
       "    <tr>\n",
       "      <th>4894</th>\n",
       "      <td>0.000000</td>\n",
       "      <td>0.0</td>\n",
       "      <td>0.0</td>\n",
       "      <td>0.0</td>\n",
       "      <td>0.0</td>\n",
       "      <td>0.0</td>\n",
       "      <td>0.0</td>\n",
       "      <td>0.0</td>\n",
       "      <td>0.0</td>\n",
       "      <td>0.0</td>\n",
       "      <td>...</td>\n",
       "      <td>0.0</td>\n",
       "      <td>0.0</td>\n",
       "      <td>0.0</td>\n",
       "      <td>0.0</td>\n",
       "      <td>0.0</td>\n",
       "      <td>0.0</td>\n",
       "      <td>0.0</td>\n",
       "      <td>0.0</td>\n",
       "      <td>0.0</td>\n",
       "      <td>TA0006</td>\n",
       "    </tr>\n",
       "    <tr>\n",
       "      <th>4895</th>\n",
       "      <td>0.000000</td>\n",
       "      <td>0.0</td>\n",
       "      <td>0.0</td>\n",
       "      <td>0.0</td>\n",
       "      <td>0.0</td>\n",
       "      <td>0.0</td>\n",
       "      <td>0.0</td>\n",
       "      <td>0.0</td>\n",
       "      <td>0.0</td>\n",
       "      <td>0.0</td>\n",
       "      <td>...</td>\n",
       "      <td>0.0</td>\n",
       "      <td>0.0</td>\n",
       "      <td>0.0</td>\n",
       "      <td>0.0</td>\n",
       "      <td>0.0</td>\n",
       "      <td>0.0</td>\n",
       "      <td>0.0</td>\n",
       "      <td>0.0</td>\n",
       "      <td>0.0</td>\n",
       "      <td>TA0009</td>\n",
       "    </tr>\n",
       "    <tr>\n",
       "      <th>4896</th>\n",
       "      <td>0.000000</td>\n",
       "      <td>0.0</td>\n",
       "      <td>0.0</td>\n",
       "      <td>0.0</td>\n",
       "      <td>0.0</td>\n",
       "      <td>0.0</td>\n",
       "      <td>0.0</td>\n",
       "      <td>0.0</td>\n",
       "      <td>0.0</td>\n",
       "      <td>0.0</td>\n",
       "      <td>...</td>\n",
       "      <td>0.0</td>\n",
       "      <td>0.0</td>\n",
       "      <td>0.0</td>\n",
       "      <td>0.0</td>\n",
       "      <td>0.0</td>\n",
       "      <td>0.0</td>\n",
       "      <td>0.0</td>\n",
       "      <td>0.0</td>\n",
       "      <td>0.0</td>\n",
       "      <td>TA0011</td>\n",
       "    </tr>\n",
       "    <tr>\n",
       "      <th>4897</th>\n",
       "      <td>0.000000</td>\n",
       "      <td>0.0</td>\n",
       "      <td>0.0</td>\n",
       "      <td>0.0</td>\n",
       "      <td>0.0</td>\n",
       "      <td>0.0</td>\n",
       "      <td>0.0</td>\n",
       "      <td>0.0</td>\n",
       "      <td>0.0</td>\n",
       "      <td>0.0</td>\n",
       "      <td>...</td>\n",
       "      <td>0.0</td>\n",
       "      <td>0.0</td>\n",
       "      <td>0.0</td>\n",
       "      <td>0.0</td>\n",
       "      <td>0.0</td>\n",
       "      <td>0.0</td>\n",
       "      <td>0.0</td>\n",
       "      <td>0.0</td>\n",
       "      <td>0.0</td>\n",
       "      <td>TA0010</td>\n",
       "    </tr>\n",
       "  </tbody>\n",
       "</table>\n",
       "<p>4898 rows × 56376 columns</p>\n",
       "</div>"
      ],
      "text/plain": [
       "            aa  aaa  aaaa  aaaaa  aaaaaa  aaaaaaaaaaaaaaaaaaaaaa  aaaab  aaab  \\\n",
       "0     0.000000  0.0   0.0    0.0     0.0                     0.0    0.0   0.0   \n",
       "1     0.000000  0.0   0.0    0.0     0.0                     0.0    0.0   0.0   \n",
       "2     0.000000  0.0   0.0    0.0     0.0                     0.0    0.0   0.0   \n",
       "3     0.000000  0.0   0.0    0.0     0.0                     0.0    0.0   0.0   \n",
       "4     0.008879  0.0   0.0    0.0     0.0                     0.0    0.0   0.0   \n",
       "...        ...  ...   ...    ...     ...                     ...    ...   ...   \n",
       "4893  0.000000  0.0   0.0    0.0     0.0                     0.0    0.0   0.0   \n",
       "4894  0.000000  0.0   0.0    0.0     0.0                     0.0    0.0   0.0   \n",
       "4895  0.000000  0.0   0.0    0.0     0.0                     0.0    0.0   0.0   \n",
       "4896  0.000000  0.0   0.0    0.0     0.0                     0.0    0.0   0.0   \n",
       "4897  0.000000  0.0   0.0    0.0     0.0                     0.0    0.0   0.0   \n",
       "\n",
       "      aaac  aaad  ...  zzyx  zzz  zzzb  zzzd  zzzh  zzzj  zzzl  zzzz  zzzzzz  \\\n",
       "0      0.0   0.0  ...   0.0  0.0   0.0   0.0   0.0   0.0   0.0   0.0     0.0   \n",
       "1      0.0   0.0  ...   0.0  0.0   0.0   0.0   0.0   0.0   0.0   0.0     0.0   \n",
       "2      0.0   0.0  ...   0.0  0.0   0.0   0.0   0.0   0.0   0.0   0.0     0.0   \n",
       "3      0.0   0.0  ...   0.0  0.0   0.0   0.0   0.0   0.0   0.0   0.0     0.0   \n",
       "4      0.0   0.0  ...   0.0  0.0   0.0   0.0   0.0   0.0   0.0   0.0     0.0   \n",
       "...    ...   ...  ...   ...  ...   ...   ...   ...   ...   ...   ...     ...   \n",
       "4893   0.0   0.0  ...   0.0  0.0   0.0   0.0   0.0   0.0   0.0   0.0     0.0   \n",
       "4894   0.0   0.0  ...   0.0  0.0   0.0   0.0   0.0   0.0   0.0   0.0     0.0   \n",
       "4895   0.0   0.0  ...   0.0  0.0   0.0   0.0   0.0   0.0   0.0   0.0     0.0   \n",
       "4896   0.0   0.0  ...   0.0  0.0   0.0   0.0   0.0   0.0   0.0   0.0     0.0   \n",
       "4897   0.0   0.0  ...   0.0  0.0   0.0   0.0   0.0   0.0   0.0   0.0     0.0   \n",
       "\n",
       "      tactic_id  \n",
       "0        TA0003  \n",
       "1        TA0004  \n",
       "2        TA0005  \n",
       "3        TA0040  \n",
       "4        TA0005  \n",
       "...         ...  \n",
       "4893     TA0005  \n",
       "4894     TA0006  \n",
       "4895     TA0009  \n",
       "4896     TA0011  \n",
       "4897     TA0010  \n",
       "\n",
       "[4898 rows x 56376 columns]"
      ]
     },
     "execution_count": 30,
     "metadata": {},
     "output_type": "execute_result"
    }
   ],
   "source": [
    "df_concat = pd.concat([X, df[y_col_name]], axis=1).explode([y_col_name]).reset_index(drop = True)\n",
    "df_concat"
   ]
  },
  {
   "cell_type": "code",
   "execution_count": 31,
   "id": "ae39a615",
   "metadata": {},
   "outputs": [],
   "source": [
    "df_agg = df_concat.groupby([y_col_name]).mean().reset_index()\n",
    "y_col = df_agg[y_col_name].unique()[0] # get first tech id"
   ]
  },
  {
   "cell_type": "code",
   "execution_count": 32,
   "id": "a5d1a268",
   "metadata": {
    "scrolled": true
   },
   "outputs": [
    {
     "ename": "KeyError",
     "evalue": "0",
     "output_type": "error",
     "traceback": [
      "\u001b[0;31m---------------------------------------------------------------------------\u001b[0m",
      "\u001b[0;31mKeyError\u001b[0m                                  Traceback (most recent call last)",
      "Input \u001b[0;32mIn [32]\u001b[0m, in \u001b[0;36m<cell line: 1>\u001b[0;34m()\u001b[0m\n\u001b[0;32m----> 1\u001b[0m \u001b[43mdf_agg\u001b[49m\u001b[38;5;241;43m.\u001b[39;49m\u001b[43mloc\u001b[49m\u001b[43m[\u001b[49m\u001b[43mdf_agg\u001b[49m\u001b[43m[\u001b[49m\u001b[43my_col_name\u001b[49m\u001b[43m]\u001b[49m\u001b[43m \u001b[49m\u001b[38;5;241;43m==\u001b[39;49m\u001b[43m \u001b[49m\u001b[43my_col_name\u001b[49m\u001b[43m]\u001b[49m\u001b[38;5;241;43m.\u001b[39;49m\u001b[43miloc\u001b[49m\u001b[43m[\u001b[49m\u001b[43m:\u001b[49m\u001b[43m,\u001b[49m\u001b[38;5;241;43m1\u001b[39;49m\u001b[43m:\u001b[49m\u001b[43m]\u001b[49m\u001b[38;5;241;43m.\u001b[39;49m\u001b[43mtranspose\u001b[49m\u001b[43m(\u001b[49m\u001b[43m)\u001b[49m\u001b[38;5;241;43m.\u001b[39;49m\u001b[43msort_values\u001b[49m\u001b[43m(\u001b[49m\u001b[43mby\u001b[49m\u001b[43m \u001b[49m\u001b[38;5;241;43m=\u001b[39;49m\u001b[43m \u001b[49m\u001b[38;5;241;43m0\u001b[39;49m\u001b[43m,\u001b[49m\u001b[43m \u001b[49m\u001b[43mascending\u001b[49m\u001b[38;5;241;43m=\u001b[39;49m\u001b[38;5;28;43;01mFalse\u001b[39;49;00m\u001b[43m)\u001b[49m\n",
      "File \u001b[0;32m~/opt/anaconda3/envs/auto_cti/lib/python3.8/site-packages/pandas/util/_decorators.py:311\u001b[0m, in \u001b[0;36mdeprecate_nonkeyword_arguments.<locals>.decorate.<locals>.wrapper\u001b[0;34m(*args, **kwargs)\u001b[0m\n\u001b[1;32m    305\u001b[0m \u001b[38;5;28;01mif\u001b[39;00m \u001b[38;5;28mlen\u001b[39m(args) \u001b[38;5;241m>\u001b[39m num_allow_args:\n\u001b[1;32m    306\u001b[0m     warnings\u001b[38;5;241m.\u001b[39mwarn(\n\u001b[1;32m    307\u001b[0m         msg\u001b[38;5;241m.\u001b[39mformat(arguments\u001b[38;5;241m=\u001b[39marguments),\n\u001b[1;32m    308\u001b[0m         \u001b[38;5;167;01mFutureWarning\u001b[39;00m,\n\u001b[1;32m    309\u001b[0m         stacklevel\u001b[38;5;241m=\u001b[39mstacklevel,\n\u001b[1;32m    310\u001b[0m     )\n\u001b[0;32m--> 311\u001b[0m \u001b[38;5;28;01mreturn\u001b[39;00m \u001b[43mfunc\u001b[49m\u001b[43m(\u001b[49m\u001b[38;5;241;43m*\u001b[39;49m\u001b[43margs\u001b[49m\u001b[43m,\u001b[49m\u001b[43m \u001b[49m\u001b[38;5;241;43m*\u001b[39;49m\u001b[38;5;241;43m*\u001b[39;49m\u001b[43mkwargs\u001b[49m\u001b[43m)\u001b[49m\n",
      "File \u001b[0;32m~/opt/anaconda3/envs/auto_cti/lib/python3.8/site-packages/pandas/core/frame.py:6313\u001b[0m, in \u001b[0;36mDataFrame.sort_values\u001b[0;34m(self, by, axis, ascending, inplace, kind, na_position, ignore_index, key)\u001b[0m\n\u001b[1;32m   6309\u001b[0m \u001b[38;5;28;01melif\u001b[39;00m \u001b[38;5;28mlen\u001b[39m(by):\n\u001b[1;32m   6310\u001b[0m     \u001b[38;5;66;03m# len(by) == 1\u001b[39;00m\n\u001b[1;32m   6312\u001b[0m     by \u001b[38;5;241m=\u001b[39m by[\u001b[38;5;241m0\u001b[39m]\n\u001b[0;32m-> 6313\u001b[0m     k \u001b[38;5;241m=\u001b[39m \u001b[38;5;28;43mself\u001b[39;49m\u001b[38;5;241;43m.\u001b[39;49m\u001b[43m_get_label_or_level_values\u001b[49m\u001b[43m(\u001b[49m\u001b[43mby\u001b[49m\u001b[43m,\u001b[49m\u001b[43m \u001b[49m\u001b[43maxis\u001b[49m\u001b[38;5;241;43m=\u001b[39;49m\u001b[43maxis\u001b[49m\u001b[43m)\u001b[49m\n\u001b[1;32m   6315\u001b[0m     \u001b[38;5;66;03m# need to rewrap column in Series to apply key function\u001b[39;00m\n\u001b[1;32m   6316\u001b[0m     \u001b[38;5;28;01mif\u001b[39;00m key \u001b[38;5;129;01mis\u001b[39;00m \u001b[38;5;129;01mnot\u001b[39;00m \u001b[38;5;28;01mNone\u001b[39;00m:\n\u001b[1;32m   6317\u001b[0m         \u001b[38;5;66;03m# error: Incompatible types in assignment (expression has type\u001b[39;00m\n\u001b[1;32m   6318\u001b[0m         \u001b[38;5;66;03m# \"Series\", variable has type \"ndarray\")\u001b[39;00m\n",
      "File \u001b[0;32m~/opt/anaconda3/envs/auto_cti/lib/python3.8/site-packages/pandas/core/generic.py:1840\u001b[0m, in \u001b[0;36mNDFrame._get_label_or_level_values\u001b[0;34m(self, key, axis)\u001b[0m\n\u001b[1;32m   1838\u001b[0m     values \u001b[38;5;241m=\u001b[39m \u001b[38;5;28mself\u001b[39m\u001b[38;5;241m.\u001b[39maxes[axis]\u001b[38;5;241m.\u001b[39mget_level_values(key)\u001b[38;5;241m.\u001b[39m_values\n\u001b[1;32m   1839\u001b[0m \u001b[38;5;28;01melse\u001b[39;00m:\n\u001b[0;32m-> 1840\u001b[0m     \u001b[38;5;28;01mraise\u001b[39;00m \u001b[38;5;167;01mKeyError\u001b[39;00m(key)\n\u001b[1;32m   1842\u001b[0m \u001b[38;5;66;03m# Check for duplicates\u001b[39;00m\n\u001b[1;32m   1843\u001b[0m \u001b[38;5;28;01mif\u001b[39;00m values\u001b[38;5;241m.\u001b[39mndim \u001b[38;5;241m>\u001b[39m \u001b[38;5;241m1\u001b[39m:\n",
      "\u001b[0;31mKeyError\u001b[0m: 0"
     ]
    }
   ],
   "source": [
    "df_agg.loc[df_agg[y_col_name] == y_col_name].iloc[:,1:].transpose().sort_values(by = 0, ascending=False)"
   ]
  },
  {
   "cell_type": "markdown",
   "id": "c81f4951",
   "metadata": {},
   "source": [
    "# Visualisation"
   ]
  },
  {
   "cell_type": "code",
   "execution_count": 33,
   "id": "d81e6b9d",
   "metadata": {},
   "outputs": [],
   "source": [
    "# Visualise frequence of words:\n",
    "\n",
    "def plot_freq_cats(df, y_col_name, top_n=15):\n",
    "    \"\"\"Plot the frequent words used in the different categories\n",
    "\n",
    "    Parameters\n",
    "    ----------\n",
    "    df : pd.DataFrame\n",
    "        Dataset to get the word frequency\n",
    "    top_n : int, default = 15\n",
    "        number of most frequent words to show\n",
    "    \"\"\"\n",
    "    nb_cats = df[y_col_name].nunique() # number of tech_names\n",
    "    fig = make_subplots(rows=nb_cats, cols=1, vertical_spacing=0.02,\n",
    "                       subplot_titles=[\"Word frequency for \"+ cat for cat in df[y_col_name].unique()])\n",
    "    \n",
    "    for i, cat in enumerate(df[y_col_name].unique()):\n",
    "        df_freq = (df.loc[df[y_col_name] == cat]\n",
    "                   .iloc[:,1:].transpose().reset_index())\n",
    "                  \n",
    "        df_freq.columns = ['words', 'frequency']\n",
    "        df_freq = (df_freq.sort_values(by = 'frequency', ascending=False)) \n",
    "\n",
    "                  \n",
    "        fig_site = px.bar(df_freq.iloc[:top_n,:],\n",
    "                      x=\"words\", y=\"frequency\", orientation=\"v\",\n",
    "                      width=800, height=300, title=f\"Word frequency for {cat} \")\n",
    "        fig.append_trace(fig_site[\"data\"][0], row=i+1, col=1)\n",
    "    \n",
    "    fig.update_layout(\n",
    "    autosize=False,\n",
    "    width=800,\n",
    "    height=4400,)\n",
    "    fig.show()\n"
   ]
  },
  {
   "cell_type": "code",
   "execution_count": 34,
   "id": "c60c5dda",
   "metadata": {},
   "outputs": [
    {
     "data": {
      "application/vnd.plotly.v1+json": {
       "config": {
        "plotlyServerURL": "https://plot.ly"
       },
       "data": [
        {
         "alignmentgroup": "True",
         "hovertemplate": "words=%{x}<br>frequency=%{y}<extra></extra>",
         "legendgroup": "",
         "marker": {
          "color": "#636efa",
          "pattern": {
           "shape": ""
          }
         },
         "name": "",
         "offsetgroup": "",
         "orientation": "v",
         "showlegend": false,
         "textposition": "auto",
         "type": "bar",
         "x": [
          "malware_name",
          "malware",
          "security",
          "figure",
          "file",
          "threat",
          "exe",
          "com",
          "data",
          "used",
          "network",
          "windows",
          "server",
          "information",
          "dll"
         ],
         "xaxis": "x",
         "y": [
          0.1507325341108809,
          0.06034080581591768,
          0.048548922268929574,
          0.047529357577172804,
          0.04273468039611852,
          0.03651308275828279,
          0.03557621515574045,
          0.030979762917511824,
          0.030584472332701604,
          0.02678341945438642,
          0.026762112472018238,
          0.025908584771039404,
          0.024847717756857568,
          0.02389104536441556,
          0.023718301166048714
         ],
         "yaxis": "y"
        },
        {
         "alignmentgroup": "True",
         "hovertemplate": "words=%{x}<br>frequency=%{y}<extra></extra>",
         "legendgroup": "",
         "marker": {
          "color": "#636efa",
          "pattern": {
           "shape": ""
          }
         },
         "name": "",
         "offsetgroup": "",
         "orientation": "v",
         "showlegend": false,
         "textposition": "auto",
         "type": "bar",
         "x": [
          "malware_name",
          "malware",
          "file",
          "figure",
          "exe",
          "security",
          "threat",
          "com",
          "used",
          "data",
          "dll",
          "backdoor",
          "command",
          "ransomware",
          "windows"
         ],
         "xaxis": "x2",
         "y": [
          0.1203400088612661,
          0.05748028161115983,
          0.047295641108005916,
          0.04348633690554301,
          0.03960049347774126,
          0.03692139530915165,
          0.033879394829478625,
          0.0320834081570447,
          0.03138621349874904,
          0.03098641879505936,
          0.03072578992803156,
          0.02721998662989646,
          0.026768096573775144,
          0.026302246058262216,
          0.02574626554217488
         ],
         "yaxis": "y2"
        },
        {
         "alignmentgroup": "True",
         "hovertemplate": "words=%{x}<br>frequency=%{y}<extra></extra>",
         "legendgroup": "",
         "marker": {
          "color": "#636efa",
          "pattern": {
           "shape": ""
          }
         },
         "name": "",
         "offsetgroup": "",
         "orientation": "v",
         "showlegend": false,
         "textposition": "auto",
         "type": "bar",
         "x": [
          "malware_name",
          "malware",
          "file",
          "exe",
          "figure",
          "security",
          "dll",
          "windows",
          "com",
          "used",
          "threat",
          "data",
          "server",
          "backdoor",
          "command"
         ],
         "xaxis": "x3",
         "y": [
          0.09463223741841635,
          0.05404227556453859,
          0.046414963802855175,
          0.035419828534058166,
          0.03515551604242769,
          0.03497681354676186,
          0.03303619164799133,
          0.030790203315464965,
          0.02965845735164876,
          0.028217310320569674,
          0.027384665311030558,
          0.027044915900134945,
          0.024634286260571025,
          0.023706479607068214,
          0.02349886714981367
         ],
         "yaxis": "y3"
        },
        {
         "alignmentgroup": "True",
         "hovertemplate": "words=%{x}<br>frequency=%{y}<extra></extra>",
         "legendgroup": "",
         "marker": {
          "color": "#636efa",
          "pattern": {
           "shape": ""
          }
         },
         "name": "",
         "offsetgroup": "",
         "orientation": "v",
         "showlegend": false,
         "textposition": "auto",
         "type": "bar",
         "x": [
          "malware_name",
          "malware",
          "file",
          "exe",
          "figure",
          "security",
          "dll",
          "windows",
          "com",
          "threat",
          "used",
          "data",
          "process",
          "files",
          "command"
         ],
         "xaxis": "x4",
         "y": [
          0.10071179187531869,
          0.05396137455083552,
          0.04984171216998943,
          0.04176116334857883,
          0.03802281169263544,
          0.0366887433355494,
          0.03460644303539445,
          0.03190534863517663,
          0.030636338897686837,
          0.02852364025046375,
          0.028514073629383338,
          0.027876541078416462,
          0.026190649772849448,
          0.02435451723067396,
          0.0234787996761074
         ],
         "yaxis": "y4"
        },
        {
         "alignmentgroup": "True",
         "hovertemplate": "words=%{x}<br>frequency=%{y}<extra></extra>",
         "legendgroup": "",
         "marker": {
          "color": "#636efa",
          "pattern": {
           "shape": ""
          }
         },
         "name": "",
         "offsetgroup": "",
         "orientation": "v",
         "showlegend": false,
         "textposition": "auto",
         "type": "bar",
         "x": [
          "malware_name",
          "malware",
          "file",
          "exe",
          "security",
          "figure",
          "dll",
          "windows",
          "com",
          "threat",
          "used",
          "data",
          "files",
          "code",
          "process"
         ],
         "xaxis": "x5",
         "y": [
          0.09445254104122142,
          0.051853157436738365,
          0.048162423586011666,
          0.03861921736674566,
          0.03687960551233472,
          0.035571524838697105,
          0.030518697179523557,
          0.029439546635681508,
          0.029212685698588432,
          0.028987685807055383,
          0.028605952192639443,
          0.028136000184059762,
          0.02411812423012967,
          0.023643064317283913,
          0.023006947009722535
         ],
         "yaxis": "y5"
        },
        {
         "alignmentgroup": "True",
         "hovertemplate": "words=%{x}<br>frequency=%{y}<extra></extra>",
         "legendgroup": "",
         "marker": {
          "color": "#636efa",
          "pattern": {
           "shape": ""
          }
         },
         "name": "",
         "offsetgroup": "",
         "orientation": "v",
         "showlegend": false,
         "textposition": "auto",
         "type": "bar",
         "x": [
          "malware_name",
          "malware",
          "security",
          "figure",
          "file",
          "password",
          "exe",
          "used",
          "windows",
          "server",
          "threat",
          "data",
          "dll",
          "user",
          "domain"
         ],
         "xaxis": "x6",
         "y": [
          0.09076501896350418,
          0.05277912056095585,
          0.04307227610776426,
          0.036869547493212876,
          0.03684699030792991,
          0.03212571419386607,
          0.02865273492153866,
          0.028069022826467265,
          0.027400955186365147,
          0.026749477029473015,
          0.025772342791901576,
          0.025742451278603758,
          0.02496580580859,
          0.02391843820201298,
          0.02257385559689093
         ],
         "yaxis": "y6"
        },
        {
         "alignmentgroup": "True",
         "hovertemplate": "words=%{x}<br>frequency=%{y}<extra></extra>",
         "legendgroup": "",
         "marker": {
          "color": "#636efa",
          "pattern": {
           "shape": ""
          }
         },
         "name": "",
         "offsetgroup": "",
         "orientation": "v",
         "showlegend": false,
         "textposition": "auto",
         "type": "bar",
         "x": [
          "malware_name",
          "malware",
          "file",
          "figure",
          "exe",
          "security",
          "dll",
          "threat",
          "used",
          "data",
          "com",
          "backdoor",
          "apt",
          "server",
          "files"
         ],
         "xaxis": "x7",
         "y": [
          0.129311127781721,
          0.06507137696442913,
          0.05227640827273558,
          0.04641777945054901,
          0.040468208542394225,
          0.03804700065432726,
          0.034560497122989656,
          0.033686508612486975,
          0.033454133921091846,
          0.03241495330316648,
          0.03045000816874409,
          0.029183986826478922,
          0.02879815083396937,
          0.028636187620122166,
          0.027256891911935546
         ],
         "yaxis": "y7"
        },
        {
         "alignmentgroup": "True",
         "hovertemplate": "words=%{x}<br>frequency=%{y}<extra></extra>",
         "legendgroup": "",
         "marker": {
          "color": "#636efa",
          "pattern": {
           "shape": ""
          }
         },
         "name": "",
         "offsetgroup": "",
         "orientation": "v",
         "showlegend": false,
         "textposition": "auto",
         "type": "bar",
         "x": [
          "malware_name",
          "malware",
          "security",
          "windows",
          "exe",
          "file",
          "com",
          "ransomware",
          "vnc",
          "server",
          "network",
          "files",
          "used",
          "figure",
          "threat"
         ],
         "xaxis": "x8",
         "y": [
          0.10848851184448668,
          0.043770675953877694,
          0.04105278943151251,
          0.03965516883606709,
          0.03355279535846512,
          0.03312129561961719,
          0.032377831856866233,
          0.031181726751522684,
          0.030973964907781877,
          0.02926780674831169,
          0.027801562337378564,
          0.027002517092164387,
          0.024912774022490463,
          0.02462765904786033,
          0.023598877889775077
         ],
         "yaxis": "y8"
        },
        {
         "alignmentgroup": "True",
         "hovertemplate": "words=%{x}<br>frequency=%{y}<extra></extra>",
         "legendgroup": "",
         "marker": {
          "color": "#636efa",
          "pattern": {
           "shape": ""
          }
         },
         "name": "",
         "offsetgroup": "",
         "orientation": "v",
         "showlegend": false,
         "textposition": "auto",
         "type": "bar",
         "x": [
          "malware_name",
          "malware",
          "file",
          "figure",
          "security",
          "exe",
          "data",
          "used",
          "com",
          "dll",
          "backdoor",
          "threat",
          "server",
          "apt",
          "kaspersky"
         ],
         "xaxis": "x9",
         "y": [
          0.1136753789938561,
          0.06430936139861296,
          0.049935627226413884,
          0.045426922632380365,
          0.039822920001658914,
          0.038383072752225175,
          0.03427404275006209,
          0.03198130430401511,
          0.03171078038878984,
          0.03144301616849483,
          0.031276903041768146,
          0.03064828333239329,
          0.030576391813779656,
          0.02884107929223215,
          0.026562258656723663
         ],
         "yaxis": "y9"
        },
        {
         "alignmentgroup": "True",
         "hovertemplate": "words=%{x}<br>frequency=%{y}<extra></extra>",
         "legendgroup": "",
         "marker": {
          "color": "#636efa",
          "pattern": {
           "shape": ""
          }
         },
         "name": "",
         "offsetgroup": "",
         "orientation": "v",
         "showlegend": false,
         "textposition": "auto",
         "type": "bar",
         "x": [
          "malware_name",
          "malware",
          "file",
          "figure",
          "exe",
          "data",
          "used",
          "com",
          "server",
          "dll",
          "apt",
          "threat",
          "backdoor",
          "security",
          "command"
         ],
         "xaxis": "x10",
         "y": [
          0.13290127197288248,
          0.06886311029577606,
          0.06112863729942508,
          0.0484726219040159,
          0.040198264541339186,
          0.03841914618917109,
          0.03825181835062758,
          0.037655559853302004,
          0.037587721985051656,
          0.0355438701176268,
          0.034653089940016556,
          0.03441825706205748,
          0.033033536177085106,
          0.03225494380796591,
          0.032082018662907386
         ],
         "yaxis": "y10"
        }
       ],
       "layout": {
        "annotations": [
         {
          "font": {
           "size": 16
          },
          "showarrow": false,
          "text": "Word frequency for TA0001",
          "x": 0.5,
          "xanchor": "center",
          "xref": "paper",
          "y": 0.9999999999999999,
          "yanchor": "bottom",
          "yref": "paper"
         },
         {
          "font": {
           "size": 16
          },
          "showarrow": false,
          "text": "Word frequency for TA0002",
          "x": 0.5,
          "xanchor": "center",
          "xref": "paper",
          "y": 0.898,
          "yanchor": "bottom",
          "yref": "paper"
         },
         {
          "font": {
           "size": 16
          },
          "showarrow": false,
          "text": "Word frequency for TA0003",
          "x": 0.5,
          "xanchor": "center",
          "xref": "paper",
          "y": 0.796,
          "yanchor": "bottom",
          "yref": "paper"
         },
         {
          "font": {
           "size": 16
          },
          "showarrow": false,
          "text": "Word frequency for TA0004",
          "x": 0.5,
          "xanchor": "center",
          "xref": "paper",
          "y": 0.6940000000000001,
          "yanchor": "bottom",
          "yref": "paper"
         },
         {
          "font": {
           "size": 16
          },
          "showarrow": false,
          "text": "Word frequency for TA0005",
          "x": 0.5,
          "xanchor": "center",
          "xref": "paper",
          "y": 0.592,
          "yanchor": "bottom",
          "yref": "paper"
         },
         {
          "font": {
           "size": 16
          },
          "showarrow": false,
          "text": "Word frequency for TA0006",
          "x": 0.5,
          "xanchor": "center",
          "xref": "paper",
          "y": 0.49000000000000005,
          "yanchor": "bottom",
          "yref": "paper"
         },
         {
          "font": {
           "size": 16
          },
          "showarrow": false,
          "text": "Word frequency for TA0007",
          "x": 0.5,
          "xanchor": "center",
          "xref": "paper",
          "y": 0.388,
          "yanchor": "bottom",
          "yref": "paper"
         },
         {
          "font": {
           "size": 16
          },
          "showarrow": false,
          "text": "Word frequency for TA0008",
          "x": 0.5,
          "xanchor": "center",
          "xref": "paper",
          "y": 0.28600000000000003,
          "yanchor": "bottom",
          "yref": "paper"
         },
         {
          "font": {
           "size": 16
          },
          "showarrow": false,
          "text": "Word frequency for TA0009",
          "x": 0.5,
          "xanchor": "center",
          "xref": "paper",
          "y": 0.184,
          "yanchor": "bottom",
          "yref": "paper"
         },
         {
          "font": {
           "size": 16
          },
          "showarrow": false,
          "text": "Word frequency for TA0010",
          "x": 0.5,
          "xanchor": "center",
          "xref": "paper",
          "y": 0.082,
          "yanchor": "bottom",
          "yref": "paper"
         }
        ],
        "autosize": false,
        "height": 4400,
        "template": {
         "data": {
          "bar": [
           {
            "error_x": {
             "color": "#2a3f5f"
            },
            "error_y": {
             "color": "#2a3f5f"
            },
            "marker": {
             "line": {
              "color": "#E5ECF6",
              "width": 0.5
             },
             "pattern": {
              "fillmode": "overlay",
              "size": 10,
              "solidity": 0.2
             }
            },
            "type": "bar"
           }
          ],
          "barpolar": [
           {
            "marker": {
             "line": {
              "color": "#E5ECF6",
              "width": 0.5
             },
             "pattern": {
              "fillmode": "overlay",
              "size": 10,
              "solidity": 0.2
             }
            },
            "type": "barpolar"
           }
          ],
          "carpet": [
           {
            "aaxis": {
             "endlinecolor": "#2a3f5f",
             "gridcolor": "white",
             "linecolor": "white",
             "minorgridcolor": "white",
             "startlinecolor": "#2a3f5f"
            },
            "baxis": {
             "endlinecolor": "#2a3f5f",
             "gridcolor": "white",
             "linecolor": "white",
             "minorgridcolor": "white",
             "startlinecolor": "#2a3f5f"
            },
            "type": "carpet"
           }
          ],
          "choropleth": [
           {
            "colorbar": {
             "outlinewidth": 0,
             "ticks": ""
            },
            "type": "choropleth"
           }
          ],
          "contour": [
           {
            "colorbar": {
             "outlinewidth": 0,
             "ticks": ""
            },
            "colorscale": [
             [
              0,
              "#0d0887"
             ],
             [
              0.1111111111111111,
              "#46039f"
             ],
             [
              0.2222222222222222,
              "#7201a8"
             ],
             [
              0.3333333333333333,
              "#9c179e"
             ],
             [
              0.4444444444444444,
              "#bd3786"
             ],
             [
              0.5555555555555556,
              "#d8576b"
             ],
             [
              0.6666666666666666,
              "#ed7953"
             ],
             [
              0.7777777777777778,
              "#fb9f3a"
             ],
             [
              0.8888888888888888,
              "#fdca26"
             ],
             [
              1,
              "#f0f921"
             ]
            ],
            "type": "contour"
           }
          ],
          "contourcarpet": [
           {
            "colorbar": {
             "outlinewidth": 0,
             "ticks": ""
            },
            "type": "contourcarpet"
           }
          ],
          "heatmap": [
           {
            "colorbar": {
             "outlinewidth": 0,
             "ticks": ""
            },
            "colorscale": [
             [
              0,
              "#0d0887"
             ],
             [
              0.1111111111111111,
              "#46039f"
             ],
             [
              0.2222222222222222,
              "#7201a8"
             ],
             [
              0.3333333333333333,
              "#9c179e"
             ],
             [
              0.4444444444444444,
              "#bd3786"
             ],
             [
              0.5555555555555556,
              "#d8576b"
             ],
             [
              0.6666666666666666,
              "#ed7953"
             ],
             [
              0.7777777777777778,
              "#fb9f3a"
             ],
             [
              0.8888888888888888,
              "#fdca26"
             ],
             [
              1,
              "#f0f921"
             ]
            ],
            "type": "heatmap"
           }
          ],
          "heatmapgl": [
           {
            "colorbar": {
             "outlinewidth": 0,
             "ticks": ""
            },
            "colorscale": [
             [
              0,
              "#0d0887"
             ],
             [
              0.1111111111111111,
              "#46039f"
             ],
             [
              0.2222222222222222,
              "#7201a8"
             ],
             [
              0.3333333333333333,
              "#9c179e"
             ],
             [
              0.4444444444444444,
              "#bd3786"
             ],
             [
              0.5555555555555556,
              "#d8576b"
             ],
             [
              0.6666666666666666,
              "#ed7953"
             ],
             [
              0.7777777777777778,
              "#fb9f3a"
             ],
             [
              0.8888888888888888,
              "#fdca26"
             ],
             [
              1,
              "#f0f921"
             ]
            ],
            "type": "heatmapgl"
           }
          ],
          "histogram": [
           {
            "marker": {
             "pattern": {
              "fillmode": "overlay",
              "size": 10,
              "solidity": 0.2
             }
            },
            "type": "histogram"
           }
          ],
          "histogram2d": [
           {
            "colorbar": {
             "outlinewidth": 0,
             "ticks": ""
            },
            "colorscale": [
             [
              0,
              "#0d0887"
             ],
             [
              0.1111111111111111,
              "#46039f"
             ],
             [
              0.2222222222222222,
              "#7201a8"
             ],
             [
              0.3333333333333333,
              "#9c179e"
             ],
             [
              0.4444444444444444,
              "#bd3786"
             ],
             [
              0.5555555555555556,
              "#d8576b"
             ],
             [
              0.6666666666666666,
              "#ed7953"
             ],
             [
              0.7777777777777778,
              "#fb9f3a"
             ],
             [
              0.8888888888888888,
              "#fdca26"
             ],
             [
              1,
              "#f0f921"
             ]
            ],
            "type": "histogram2d"
           }
          ],
          "histogram2dcontour": [
           {
            "colorbar": {
             "outlinewidth": 0,
             "ticks": ""
            },
            "colorscale": [
             [
              0,
              "#0d0887"
             ],
             [
              0.1111111111111111,
              "#46039f"
             ],
             [
              0.2222222222222222,
              "#7201a8"
             ],
             [
              0.3333333333333333,
              "#9c179e"
             ],
             [
              0.4444444444444444,
              "#bd3786"
             ],
             [
              0.5555555555555556,
              "#d8576b"
             ],
             [
              0.6666666666666666,
              "#ed7953"
             ],
             [
              0.7777777777777778,
              "#fb9f3a"
             ],
             [
              0.8888888888888888,
              "#fdca26"
             ],
             [
              1,
              "#f0f921"
             ]
            ],
            "type": "histogram2dcontour"
           }
          ],
          "mesh3d": [
           {
            "colorbar": {
             "outlinewidth": 0,
             "ticks": ""
            },
            "type": "mesh3d"
           }
          ],
          "parcoords": [
           {
            "line": {
             "colorbar": {
              "outlinewidth": 0,
              "ticks": ""
             }
            },
            "type": "parcoords"
           }
          ],
          "pie": [
           {
            "automargin": true,
            "type": "pie"
           }
          ],
          "scatter": [
           {
            "marker": {
             "colorbar": {
              "outlinewidth": 0,
              "ticks": ""
             }
            },
            "type": "scatter"
           }
          ],
          "scatter3d": [
           {
            "line": {
             "colorbar": {
              "outlinewidth": 0,
              "ticks": ""
             }
            },
            "marker": {
             "colorbar": {
              "outlinewidth": 0,
              "ticks": ""
             }
            },
            "type": "scatter3d"
           }
          ],
          "scattercarpet": [
           {
            "marker": {
             "colorbar": {
              "outlinewidth": 0,
              "ticks": ""
             }
            },
            "type": "scattercarpet"
           }
          ],
          "scattergeo": [
           {
            "marker": {
             "colorbar": {
              "outlinewidth": 0,
              "ticks": ""
             }
            },
            "type": "scattergeo"
           }
          ],
          "scattergl": [
           {
            "marker": {
             "colorbar": {
              "outlinewidth": 0,
              "ticks": ""
             }
            },
            "type": "scattergl"
           }
          ],
          "scattermapbox": [
           {
            "marker": {
             "colorbar": {
              "outlinewidth": 0,
              "ticks": ""
             }
            },
            "type": "scattermapbox"
           }
          ],
          "scatterpolar": [
           {
            "marker": {
             "colorbar": {
              "outlinewidth": 0,
              "ticks": ""
             }
            },
            "type": "scatterpolar"
           }
          ],
          "scatterpolargl": [
           {
            "marker": {
             "colorbar": {
              "outlinewidth": 0,
              "ticks": ""
             }
            },
            "type": "scatterpolargl"
           }
          ],
          "scatterternary": [
           {
            "marker": {
             "colorbar": {
              "outlinewidth": 0,
              "ticks": ""
             }
            },
            "type": "scatterternary"
           }
          ],
          "surface": [
           {
            "colorbar": {
             "outlinewidth": 0,
             "ticks": ""
            },
            "colorscale": [
             [
              0,
              "#0d0887"
             ],
             [
              0.1111111111111111,
              "#46039f"
             ],
             [
              0.2222222222222222,
              "#7201a8"
             ],
             [
              0.3333333333333333,
              "#9c179e"
             ],
             [
              0.4444444444444444,
              "#bd3786"
             ],
             [
              0.5555555555555556,
              "#d8576b"
             ],
             [
              0.6666666666666666,
              "#ed7953"
             ],
             [
              0.7777777777777778,
              "#fb9f3a"
             ],
             [
              0.8888888888888888,
              "#fdca26"
             ],
             [
              1,
              "#f0f921"
             ]
            ],
            "type": "surface"
           }
          ],
          "table": [
           {
            "cells": {
             "fill": {
              "color": "#EBF0F8"
             },
             "line": {
              "color": "white"
             }
            },
            "header": {
             "fill": {
              "color": "#C8D4E3"
             },
             "line": {
              "color": "white"
             }
            },
            "type": "table"
           }
          ]
         },
         "layout": {
          "annotationdefaults": {
           "arrowcolor": "#2a3f5f",
           "arrowhead": 0,
           "arrowwidth": 1
          },
          "autotypenumbers": "strict",
          "coloraxis": {
           "colorbar": {
            "outlinewidth": 0,
            "ticks": ""
           }
          },
          "colorscale": {
           "diverging": [
            [
             0,
             "#8e0152"
            ],
            [
             0.1,
             "#c51b7d"
            ],
            [
             0.2,
             "#de77ae"
            ],
            [
             0.3,
             "#f1b6da"
            ],
            [
             0.4,
             "#fde0ef"
            ],
            [
             0.5,
             "#f7f7f7"
            ],
            [
             0.6,
             "#e6f5d0"
            ],
            [
             0.7,
             "#b8e186"
            ],
            [
             0.8,
             "#7fbc41"
            ],
            [
             0.9,
             "#4d9221"
            ],
            [
             1,
             "#276419"
            ]
           ],
           "sequential": [
            [
             0,
             "#0d0887"
            ],
            [
             0.1111111111111111,
             "#46039f"
            ],
            [
             0.2222222222222222,
             "#7201a8"
            ],
            [
             0.3333333333333333,
             "#9c179e"
            ],
            [
             0.4444444444444444,
             "#bd3786"
            ],
            [
             0.5555555555555556,
             "#d8576b"
            ],
            [
             0.6666666666666666,
             "#ed7953"
            ],
            [
             0.7777777777777778,
             "#fb9f3a"
            ],
            [
             0.8888888888888888,
             "#fdca26"
            ],
            [
             1,
             "#f0f921"
            ]
           ],
           "sequentialminus": [
            [
             0,
             "#0d0887"
            ],
            [
             0.1111111111111111,
             "#46039f"
            ],
            [
             0.2222222222222222,
             "#7201a8"
            ],
            [
             0.3333333333333333,
             "#9c179e"
            ],
            [
             0.4444444444444444,
             "#bd3786"
            ],
            [
             0.5555555555555556,
             "#d8576b"
            ],
            [
             0.6666666666666666,
             "#ed7953"
            ],
            [
             0.7777777777777778,
             "#fb9f3a"
            ],
            [
             0.8888888888888888,
             "#fdca26"
            ],
            [
             1,
             "#f0f921"
            ]
           ]
          },
          "colorway": [
           "#636efa",
           "#EF553B",
           "#00cc96",
           "#ab63fa",
           "#FFA15A",
           "#19d3f3",
           "#FF6692",
           "#B6E880",
           "#FF97FF",
           "#FECB52"
          ],
          "font": {
           "color": "#2a3f5f"
          },
          "geo": {
           "bgcolor": "white",
           "lakecolor": "white",
           "landcolor": "#E5ECF6",
           "showlakes": true,
           "showland": true,
           "subunitcolor": "white"
          },
          "hoverlabel": {
           "align": "left"
          },
          "hovermode": "closest",
          "mapbox": {
           "style": "light"
          },
          "paper_bgcolor": "white",
          "plot_bgcolor": "#E5ECF6",
          "polar": {
           "angularaxis": {
            "gridcolor": "white",
            "linecolor": "white",
            "ticks": ""
           },
           "bgcolor": "#E5ECF6",
           "radialaxis": {
            "gridcolor": "white",
            "linecolor": "white",
            "ticks": ""
           }
          },
          "scene": {
           "xaxis": {
            "backgroundcolor": "#E5ECF6",
            "gridcolor": "white",
            "gridwidth": 2,
            "linecolor": "white",
            "showbackground": true,
            "ticks": "",
            "zerolinecolor": "white"
           },
           "yaxis": {
            "backgroundcolor": "#E5ECF6",
            "gridcolor": "white",
            "gridwidth": 2,
            "linecolor": "white",
            "showbackground": true,
            "ticks": "",
            "zerolinecolor": "white"
           },
           "zaxis": {
            "backgroundcolor": "#E5ECF6",
            "gridcolor": "white",
            "gridwidth": 2,
            "linecolor": "white",
            "showbackground": true,
            "ticks": "",
            "zerolinecolor": "white"
           }
          },
          "shapedefaults": {
           "line": {
            "color": "#2a3f5f"
           }
          },
          "ternary": {
           "aaxis": {
            "gridcolor": "white",
            "linecolor": "white",
            "ticks": ""
           },
           "baxis": {
            "gridcolor": "white",
            "linecolor": "white",
            "ticks": ""
           },
           "bgcolor": "#E5ECF6",
           "caxis": {
            "gridcolor": "white",
            "linecolor": "white",
            "ticks": ""
           }
          },
          "title": {
           "x": 0.05
          },
          "xaxis": {
           "automargin": true,
           "gridcolor": "white",
           "linecolor": "white",
           "ticks": "",
           "title": {
            "standoff": 15
           },
           "zerolinecolor": "white",
           "zerolinewidth": 2
          },
          "yaxis": {
           "automargin": true,
           "gridcolor": "white",
           "linecolor": "white",
           "ticks": "",
           "title": {
            "standoff": 15
           },
           "zerolinecolor": "white",
           "zerolinewidth": 2
          }
         }
        },
        "width": 800,
        "xaxis": {
         "anchor": "y",
         "domain": [
          0,
          1
         ]
        },
        "xaxis10": {
         "anchor": "y10",
         "domain": [
          0,
          1
         ]
        },
        "xaxis2": {
         "anchor": "y2",
         "domain": [
          0,
          1
         ]
        },
        "xaxis3": {
         "anchor": "y3",
         "domain": [
          0,
          1
         ]
        },
        "xaxis4": {
         "anchor": "y4",
         "domain": [
          0,
          1
         ]
        },
        "xaxis5": {
         "anchor": "y5",
         "domain": [
          0,
          1
         ]
        },
        "xaxis6": {
         "anchor": "y6",
         "domain": [
          0,
          1
         ]
        },
        "xaxis7": {
         "anchor": "y7",
         "domain": [
          0,
          1
         ]
        },
        "xaxis8": {
         "anchor": "y8",
         "domain": [
          0,
          1
         ]
        },
        "xaxis9": {
         "anchor": "y9",
         "domain": [
          0,
          1
         ]
        },
        "yaxis": {
         "anchor": "x",
         "domain": [
          0.9179999999999999,
          0.9999999999999999
         ]
        },
        "yaxis10": {
         "anchor": "x10",
         "domain": [
          0,
          0.082
         ]
        },
        "yaxis2": {
         "anchor": "x2",
         "domain": [
          0.8160000000000001,
          0.898
         ]
        },
        "yaxis3": {
         "anchor": "x3",
         "domain": [
          0.7140000000000001,
          0.796
         ]
        },
        "yaxis4": {
         "anchor": "x4",
         "domain": [
          0.6120000000000001,
          0.6940000000000001
         ]
        },
        "yaxis5": {
         "anchor": "x5",
         "domain": [
          0.51,
          0.592
         ]
        },
        "yaxis6": {
         "anchor": "x6",
         "domain": [
          0.40800000000000003,
          0.49000000000000005
         ]
        },
        "yaxis7": {
         "anchor": "x7",
         "domain": [
          0.306,
          0.388
         ]
        },
        "yaxis8": {
         "anchor": "x8",
         "domain": [
          0.20400000000000001,
          0.28600000000000003
         ]
        },
        "yaxis9": {
         "anchor": "x9",
         "domain": [
          0.10200000000000001,
          0.184
         ]
        }
       }
      },
      "text/html": [
       "<div>                            <div id=\"23fef44b-5980-461e-99ff-657e7195d3ab\" class=\"plotly-graph-div\" style=\"height:4400px; width:800px;\"></div>            <script type=\"text/javascript\">                require([\"plotly\"], function(Plotly) {                    window.PLOTLYENV=window.PLOTLYENV || {};                                    if (document.getElementById(\"23fef44b-5980-461e-99ff-657e7195d3ab\")) {                    Plotly.newPlot(                        \"23fef44b-5980-461e-99ff-657e7195d3ab\",                        [{\"alignmentgroup\":\"True\",\"hovertemplate\":\"words=%{x}<br>frequency=%{y}<extra></extra>\",\"legendgroup\":\"\",\"marker\":{\"color\":\"#636efa\",\"pattern\":{\"shape\":\"\"}},\"name\":\"\",\"offsetgroup\":\"\",\"orientation\":\"v\",\"showlegend\":false,\"textposition\":\"auto\",\"x\":[\"malware_name\",\"malware\",\"security\",\"figure\",\"file\",\"threat\",\"exe\",\"com\",\"data\",\"used\",\"network\",\"windows\",\"server\",\"information\",\"dll\"],\"xaxis\":\"x\",\"y\":[0.1507325341108809,0.06034080581591768,0.048548922268929574,0.047529357577172804,0.04273468039611852,0.03651308275828279,0.03557621515574045,0.030979762917511824,0.030584472332701604,0.02678341945438642,0.026762112472018238,0.025908584771039404,0.024847717756857568,0.02389104536441556,0.023718301166048714],\"yaxis\":\"y\",\"type\":\"bar\"},{\"alignmentgroup\":\"True\",\"hovertemplate\":\"words=%{x}<br>frequency=%{y}<extra></extra>\",\"legendgroup\":\"\",\"marker\":{\"color\":\"#636efa\",\"pattern\":{\"shape\":\"\"}},\"name\":\"\",\"offsetgroup\":\"\",\"orientation\":\"v\",\"showlegend\":false,\"textposition\":\"auto\",\"x\":[\"malware_name\",\"malware\",\"file\",\"figure\",\"exe\",\"security\",\"threat\",\"com\",\"used\",\"data\",\"dll\",\"backdoor\",\"command\",\"ransomware\",\"windows\"],\"xaxis\":\"x2\",\"y\":[0.1203400088612661,0.05748028161115983,0.047295641108005916,0.04348633690554301,0.03960049347774126,0.03692139530915165,0.033879394829478625,0.0320834081570447,0.03138621349874904,0.03098641879505936,0.03072578992803156,0.02721998662989646,0.026768096573775144,0.026302246058262216,0.02574626554217488],\"yaxis\":\"y2\",\"type\":\"bar\"},{\"alignmentgroup\":\"True\",\"hovertemplate\":\"words=%{x}<br>frequency=%{y}<extra></extra>\",\"legendgroup\":\"\",\"marker\":{\"color\":\"#636efa\",\"pattern\":{\"shape\":\"\"}},\"name\":\"\",\"offsetgroup\":\"\",\"orientation\":\"v\",\"showlegend\":false,\"textposition\":\"auto\",\"x\":[\"malware_name\",\"malware\",\"file\",\"exe\",\"figure\",\"security\",\"dll\",\"windows\",\"com\",\"used\",\"threat\",\"data\",\"server\",\"backdoor\",\"command\"],\"xaxis\":\"x3\",\"y\":[0.09463223741841635,0.05404227556453859,0.046414963802855175,0.035419828534058166,0.03515551604242769,0.03497681354676186,0.03303619164799133,0.030790203315464965,0.02965845735164876,0.028217310320569674,0.027384665311030558,0.027044915900134945,0.024634286260571025,0.023706479607068214,0.02349886714981367],\"yaxis\":\"y3\",\"type\":\"bar\"},{\"alignmentgroup\":\"True\",\"hovertemplate\":\"words=%{x}<br>frequency=%{y}<extra></extra>\",\"legendgroup\":\"\",\"marker\":{\"color\":\"#636efa\",\"pattern\":{\"shape\":\"\"}},\"name\":\"\",\"offsetgroup\":\"\",\"orientation\":\"v\",\"showlegend\":false,\"textposition\":\"auto\",\"x\":[\"malware_name\",\"malware\",\"file\",\"exe\",\"figure\",\"security\",\"dll\",\"windows\",\"com\",\"threat\",\"used\",\"data\",\"process\",\"files\",\"command\"],\"xaxis\":\"x4\",\"y\":[0.10071179187531869,0.05396137455083552,0.04984171216998943,0.04176116334857883,0.03802281169263544,0.0366887433355494,0.03460644303539445,0.03190534863517663,0.030636338897686837,0.02852364025046375,0.028514073629383338,0.027876541078416462,0.026190649772849448,0.02435451723067396,0.0234787996761074],\"yaxis\":\"y4\",\"type\":\"bar\"},{\"alignmentgroup\":\"True\",\"hovertemplate\":\"words=%{x}<br>frequency=%{y}<extra></extra>\",\"legendgroup\":\"\",\"marker\":{\"color\":\"#636efa\",\"pattern\":{\"shape\":\"\"}},\"name\":\"\",\"offsetgroup\":\"\",\"orientation\":\"v\",\"showlegend\":false,\"textposition\":\"auto\",\"x\":[\"malware_name\",\"malware\",\"file\",\"exe\",\"security\",\"figure\",\"dll\",\"windows\",\"com\",\"threat\",\"used\",\"data\",\"files\",\"code\",\"process\"],\"xaxis\":\"x5\",\"y\":[0.09445254104122142,0.051853157436738365,0.048162423586011666,0.03861921736674566,0.03687960551233472,0.035571524838697105,0.030518697179523557,0.029439546635681508,0.029212685698588432,0.028987685807055383,0.028605952192639443,0.028136000184059762,0.02411812423012967,0.023643064317283913,0.023006947009722535],\"yaxis\":\"y5\",\"type\":\"bar\"},{\"alignmentgroup\":\"True\",\"hovertemplate\":\"words=%{x}<br>frequency=%{y}<extra></extra>\",\"legendgroup\":\"\",\"marker\":{\"color\":\"#636efa\",\"pattern\":{\"shape\":\"\"}},\"name\":\"\",\"offsetgroup\":\"\",\"orientation\":\"v\",\"showlegend\":false,\"textposition\":\"auto\",\"x\":[\"malware_name\",\"malware\",\"security\",\"figure\",\"file\",\"password\",\"exe\",\"used\",\"windows\",\"server\",\"threat\",\"data\",\"dll\",\"user\",\"domain\"],\"xaxis\":\"x6\",\"y\":[0.09076501896350418,0.05277912056095585,0.04307227610776426,0.036869547493212876,0.03684699030792991,0.03212571419386607,0.02865273492153866,0.028069022826467265,0.027400955186365147,0.026749477029473015,0.025772342791901576,0.025742451278603758,0.02496580580859,0.02391843820201298,0.02257385559689093],\"yaxis\":\"y6\",\"type\":\"bar\"},{\"alignmentgroup\":\"True\",\"hovertemplate\":\"words=%{x}<br>frequency=%{y}<extra></extra>\",\"legendgroup\":\"\",\"marker\":{\"color\":\"#636efa\",\"pattern\":{\"shape\":\"\"}},\"name\":\"\",\"offsetgroup\":\"\",\"orientation\":\"v\",\"showlegend\":false,\"textposition\":\"auto\",\"x\":[\"malware_name\",\"malware\",\"file\",\"figure\",\"exe\",\"security\",\"dll\",\"threat\",\"used\",\"data\",\"com\",\"backdoor\",\"apt\",\"server\",\"files\"],\"xaxis\":\"x7\",\"y\":[0.129311127781721,0.06507137696442913,0.05227640827273558,0.04641777945054901,0.040468208542394225,0.03804700065432726,0.034560497122989656,0.033686508612486975,0.033454133921091846,0.03241495330316648,0.03045000816874409,0.029183986826478922,0.02879815083396937,0.028636187620122166,0.027256891911935546],\"yaxis\":\"y7\",\"type\":\"bar\"},{\"alignmentgroup\":\"True\",\"hovertemplate\":\"words=%{x}<br>frequency=%{y}<extra></extra>\",\"legendgroup\":\"\",\"marker\":{\"color\":\"#636efa\",\"pattern\":{\"shape\":\"\"}},\"name\":\"\",\"offsetgroup\":\"\",\"orientation\":\"v\",\"showlegend\":false,\"textposition\":\"auto\",\"x\":[\"malware_name\",\"malware\",\"security\",\"windows\",\"exe\",\"file\",\"com\",\"ransomware\",\"vnc\",\"server\",\"network\",\"files\",\"used\",\"figure\",\"threat\"],\"xaxis\":\"x8\",\"y\":[0.10848851184448668,0.043770675953877694,0.04105278943151251,0.03965516883606709,0.03355279535846512,0.03312129561961719,0.032377831856866233,0.031181726751522684,0.030973964907781877,0.02926780674831169,0.027801562337378564,0.027002517092164387,0.024912774022490463,0.02462765904786033,0.023598877889775077],\"yaxis\":\"y8\",\"type\":\"bar\"},{\"alignmentgroup\":\"True\",\"hovertemplate\":\"words=%{x}<br>frequency=%{y}<extra></extra>\",\"legendgroup\":\"\",\"marker\":{\"color\":\"#636efa\",\"pattern\":{\"shape\":\"\"}},\"name\":\"\",\"offsetgroup\":\"\",\"orientation\":\"v\",\"showlegend\":false,\"textposition\":\"auto\",\"x\":[\"malware_name\",\"malware\",\"file\",\"figure\",\"security\",\"exe\",\"data\",\"used\",\"com\",\"dll\",\"backdoor\",\"threat\",\"server\",\"apt\",\"kaspersky\"],\"xaxis\":\"x9\",\"y\":[0.1136753789938561,0.06430936139861296,0.049935627226413884,0.045426922632380365,0.039822920001658914,0.038383072752225175,0.03427404275006209,0.03198130430401511,0.03171078038878984,0.03144301616849483,0.031276903041768146,0.03064828333239329,0.030576391813779656,0.02884107929223215,0.026562258656723663],\"yaxis\":\"y9\",\"type\":\"bar\"},{\"alignmentgroup\":\"True\",\"hovertemplate\":\"words=%{x}<br>frequency=%{y}<extra></extra>\",\"legendgroup\":\"\",\"marker\":{\"color\":\"#636efa\",\"pattern\":{\"shape\":\"\"}},\"name\":\"\",\"offsetgroup\":\"\",\"orientation\":\"v\",\"showlegend\":false,\"textposition\":\"auto\",\"x\":[\"malware_name\",\"malware\",\"file\",\"figure\",\"exe\",\"data\",\"used\",\"com\",\"server\",\"dll\",\"apt\",\"threat\",\"backdoor\",\"security\",\"command\"],\"xaxis\":\"x10\",\"y\":[0.13290127197288248,0.06886311029577606,0.06112863729942508,0.0484726219040159,0.040198264541339186,0.03841914618917109,0.03825181835062758,0.037655559853302004,0.037587721985051656,0.0355438701176268,0.034653089940016556,0.03441825706205748,0.033033536177085106,0.03225494380796591,0.032082018662907386],\"yaxis\":\"y10\",\"type\":\"bar\"}],                        {\"template\":{\"data\":{\"bar\":[{\"error_x\":{\"color\":\"#2a3f5f\"},\"error_y\":{\"color\":\"#2a3f5f\"},\"marker\":{\"line\":{\"color\":\"#E5ECF6\",\"width\":0.5},\"pattern\":{\"fillmode\":\"overlay\",\"size\":10,\"solidity\":0.2}},\"type\":\"bar\"}],\"barpolar\":[{\"marker\":{\"line\":{\"color\":\"#E5ECF6\",\"width\":0.5},\"pattern\":{\"fillmode\":\"overlay\",\"size\":10,\"solidity\":0.2}},\"type\":\"barpolar\"}],\"carpet\":[{\"aaxis\":{\"endlinecolor\":\"#2a3f5f\",\"gridcolor\":\"white\",\"linecolor\":\"white\",\"minorgridcolor\":\"white\",\"startlinecolor\":\"#2a3f5f\"},\"baxis\":{\"endlinecolor\":\"#2a3f5f\",\"gridcolor\":\"white\",\"linecolor\":\"white\",\"minorgridcolor\":\"white\",\"startlinecolor\":\"#2a3f5f\"},\"type\":\"carpet\"}],\"choropleth\":[{\"colorbar\":{\"outlinewidth\":0,\"ticks\":\"\"},\"type\":\"choropleth\"}],\"contour\":[{\"colorbar\":{\"outlinewidth\":0,\"ticks\":\"\"},\"colorscale\":[[0.0,\"#0d0887\"],[0.1111111111111111,\"#46039f\"],[0.2222222222222222,\"#7201a8\"],[0.3333333333333333,\"#9c179e\"],[0.4444444444444444,\"#bd3786\"],[0.5555555555555556,\"#d8576b\"],[0.6666666666666666,\"#ed7953\"],[0.7777777777777778,\"#fb9f3a\"],[0.8888888888888888,\"#fdca26\"],[1.0,\"#f0f921\"]],\"type\":\"contour\"}],\"contourcarpet\":[{\"colorbar\":{\"outlinewidth\":0,\"ticks\":\"\"},\"type\":\"contourcarpet\"}],\"heatmap\":[{\"colorbar\":{\"outlinewidth\":0,\"ticks\":\"\"},\"colorscale\":[[0.0,\"#0d0887\"],[0.1111111111111111,\"#46039f\"],[0.2222222222222222,\"#7201a8\"],[0.3333333333333333,\"#9c179e\"],[0.4444444444444444,\"#bd3786\"],[0.5555555555555556,\"#d8576b\"],[0.6666666666666666,\"#ed7953\"],[0.7777777777777778,\"#fb9f3a\"],[0.8888888888888888,\"#fdca26\"],[1.0,\"#f0f921\"]],\"type\":\"heatmap\"}],\"heatmapgl\":[{\"colorbar\":{\"outlinewidth\":0,\"ticks\":\"\"},\"colorscale\":[[0.0,\"#0d0887\"],[0.1111111111111111,\"#46039f\"],[0.2222222222222222,\"#7201a8\"],[0.3333333333333333,\"#9c179e\"],[0.4444444444444444,\"#bd3786\"],[0.5555555555555556,\"#d8576b\"],[0.6666666666666666,\"#ed7953\"],[0.7777777777777778,\"#fb9f3a\"],[0.8888888888888888,\"#fdca26\"],[1.0,\"#f0f921\"]],\"type\":\"heatmapgl\"}],\"histogram\":[{\"marker\":{\"pattern\":{\"fillmode\":\"overlay\",\"size\":10,\"solidity\":0.2}},\"type\":\"histogram\"}],\"histogram2d\":[{\"colorbar\":{\"outlinewidth\":0,\"ticks\":\"\"},\"colorscale\":[[0.0,\"#0d0887\"],[0.1111111111111111,\"#46039f\"],[0.2222222222222222,\"#7201a8\"],[0.3333333333333333,\"#9c179e\"],[0.4444444444444444,\"#bd3786\"],[0.5555555555555556,\"#d8576b\"],[0.6666666666666666,\"#ed7953\"],[0.7777777777777778,\"#fb9f3a\"],[0.8888888888888888,\"#fdca26\"],[1.0,\"#f0f921\"]],\"type\":\"histogram2d\"}],\"histogram2dcontour\":[{\"colorbar\":{\"outlinewidth\":0,\"ticks\":\"\"},\"colorscale\":[[0.0,\"#0d0887\"],[0.1111111111111111,\"#46039f\"],[0.2222222222222222,\"#7201a8\"],[0.3333333333333333,\"#9c179e\"],[0.4444444444444444,\"#bd3786\"],[0.5555555555555556,\"#d8576b\"],[0.6666666666666666,\"#ed7953\"],[0.7777777777777778,\"#fb9f3a\"],[0.8888888888888888,\"#fdca26\"],[1.0,\"#f0f921\"]],\"type\":\"histogram2dcontour\"}],\"mesh3d\":[{\"colorbar\":{\"outlinewidth\":0,\"ticks\":\"\"},\"type\":\"mesh3d\"}],\"parcoords\":[{\"line\":{\"colorbar\":{\"outlinewidth\":0,\"ticks\":\"\"}},\"type\":\"parcoords\"}],\"pie\":[{\"automargin\":true,\"type\":\"pie\"}],\"scatter\":[{\"marker\":{\"colorbar\":{\"outlinewidth\":0,\"ticks\":\"\"}},\"type\":\"scatter\"}],\"scatter3d\":[{\"line\":{\"colorbar\":{\"outlinewidth\":0,\"ticks\":\"\"}},\"marker\":{\"colorbar\":{\"outlinewidth\":0,\"ticks\":\"\"}},\"type\":\"scatter3d\"}],\"scattercarpet\":[{\"marker\":{\"colorbar\":{\"outlinewidth\":0,\"ticks\":\"\"}},\"type\":\"scattercarpet\"}],\"scattergeo\":[{\"marker\":{\"colorbar\":{\"outlinewidth\":0,\"ticks\":\"\"}},\"type\":\"scattergeo\"}],\"scattergl\":[{\"marker\":{\"colorbar\":{\"outlinewidth\":0,\"ticks\":\"\"}},\"type\":\"scattergl\"}],\"scattermapbox\":[{\"marker\":{\"colorbar\":{\"outlinewidth\":0,\"ticks\":\"\"}},\"type\":\"scattermapbox\"}],\"scatterpolar\":[{\"marker\":{\"colorbar\":{\"outlinewidth\":0,\"ticks\":\"\"}},\"type\":\"scatterpolar\"}],\"scatterpolargl\":[{\"marker\":{\"colorbar\":{\"outlinewidth\":0,\"ticks\":\"\"}},\"type\":\"scatterpolargl\"}],\"scatterternary\":[{\"marker\":{\"colorbar\":{\"outlinewidth\":0,\"ticks\":\"\"}},\"type\":\"scatterternary\"}],\"surface\":[{\"colorbar\":{\"outlinewidth\":0,\"ticks\":\"\"},\"colorscale\":[[0.0,\"#0d0887\"],[0.1111111111111111,\"#46039f\"],[0.2222222222222222,\"#7201a8\"],[0.3333333333333333,\"#9c179e\"],[0.4444444444444444,\"#bd3786\"],[0.5555555555555556,\"#d8576b\"],[0.6666666666666666,\"#ed7953\"],[0.7777777777777778,\"#fb9f3a\"],[0.8888888888888888,\"#fdca26\"],[1.0,\"#f0f921\"]],\"type\":\"surface\"}],\"table\":[{\"cells\":{\"fill\":{\"color\":\"#EBF0F8\"},\"line\":{\"color\":\"white\"}},\"header\":{\"fill\":{\"color\":\"#C8D4E3\"},\"line\":{\"color\":\"white\"}},\"type\":\"table\"}]},\"layout\":{\"annotationdefaults\":{\"arrowcolor\":\"#2a3f5f\",\"arrowhead\":0,\"arrowwidth\":1},\"autotypenumbers\":\"strict\",\"coloraxis\":{\"colorbar\":{\"outlinewidth\":0,\"ticks\":\"\"}},\"colorscale\":{\"diverging\":[[0,\"#8e0152\"],[0.1,\"#c51b7d\"],[0.2,\"#de77ae\"],[0.3,\"#f1b6da\"],[0.4,\"#fde0ef\"],[0.5,\"#f7f7f7\"],[0.6,\"#e6f5d0\"],[0.7,\"#b8e186\"],[0.8,\"#7fbc41\"],[0.9,\"#4d9221\"],[1,\"#276419\"]],\"sequential\":[[0.0,\"#0d0887\"],[0.1111111111111111,\"#46039f\"],[0.2222222222222222,\"#7201a8\"],[0.3333333333333333,\"#9c179e\"],[0.4444444444444444,\"#bd3786\"],[0.5555555555555556,\"#d8576b\"],[0.6666666666666666,\"#ed7953\"],[0.7777777777777778,\"#fb9f3a\"],[0.8888888888888888,\"#fdca26\"],[1.0,\"#f0f921\"]],\"sequentialminus\":[[0.0,\"#0d0887\"],[0.1111111111111111,\"#46039f\"],[0.2222222222222222,\"#7201a8\"],[0.3333333333333333,\"#9c179e\"],[0.4444444444444444,\"#bd3786\"],[0.5555555555555556,\"#d8576b\"],[0.6666666666666666,\"#ed7953\"],[0.7777777777777778,\"#fb9f3a\"],[0.8888888888888888,\"#fdca26\"],[1.0,\"#f0f921\"]]},\"colorway\":[\"#636efa\",\"#EF553B\",\"#00cc96\",\"#ab63fa\",\"#FFA15A\",\"#19d3f3\",\"#FF6692\",\"#B6E880\",\"#FF97FF\",\"#FECB52\"],\"font\":{\"color\":\"#2a3f5f\"},\"geo\":{\"bgcolor\":\"white\",\"lakecolor\":\"white\",\"landcolor\":\"#E5ECF6\",\"showlakes\":true,\"showland\":true,\"subunitcolor\":\"white\"},\"hoverlabel\":{\"align\":\"left\"},\"hovermode\":\"closest\",\"mapbox\":{\"style\":\"light\"},\"paper_bgcolor\":\"white\",\"plot_bgcolor\":\"#E5ECF6\",\"polar\":{\"angularaxis\":{\"gridcolor\":\"white\",\"linecolor\":\"white\",\"ticks\":\"\"},\"bgcolor\":\"#E5ECF6\",\"radialaxis\":{\"gridcolor\":\"white\",\"linecolor\":\"white\",\"ticks\":\"\"}},\"scene\":{\"xaxis\":{\"backgroundcolor\":\"#E5ECF6\",\"gridcolor\":\"white\",\"gridwidth\":2,\"linecolor\":\"white\",\"showbackground\":true,\"ticks\":\"\",\"zerolinecolor\":\"white\"},\"yaxis\":{\"backgroundcolor\":\"#E5ECF6\",\"gridcolor\":\"white\",\"gridwidth\":2,\"linecolor\":\"white\",\"showbackground\":true,\"ticks\":\"\",\"zerolinecolor\":\"white\"},\"zaxis\":{\"backgroundcolor\":\"#E5ECF6\",\"gridcolor\":\"white\",\"gridwidth\":2,\"linecolor\":\"white\",\"showbackground\":true,\"ticks\":\"\",\"zerolinecolor\":\"white\"}},\"shapedefaults\":{\"line\":{\"color\":\"#2a3f5f\"}},\"ternary\":{\"aaxis\":{\"gridcolor\":\"white\",\"linecolor\":\"white\",\"ticks\":\"\"},\"baxis\":{\"gridcolor\":\"white\",\"linecolor\":\"white\",\"ticks\":\"\"},\"bgcolor\":\"#E5ECF6\",\"caxis\":{\"gridcolor\":\"white\",\"linecolor\":\"white\",\"ticks\":\"\"}},\"title\":{\"x\":0.05},\"xaxis\":{\"automargin\":true,\"gridcolor\":\"white\",\"linecolor\":\"white\",\"ticks\":\"\",\"title\":{\"standoff\":15},\"zerolinecolor\":\"white\",\"zerolinewidth\":2},\"yaxis\":{\"automargin\":true,\"gridcolor\":\"white\",\"linecolor\":\"white\",\"ticks\":\"\",\"title\":{\"standoff\":15},\"zerolinecolor\":\"white\",\"zerolinewidth\":2}}},\"xaxis\":{\"anchor\":\"y\",\"domain\":[0.0,1.0]},\"yaxis\":{\"anchor\":\"x\",\"domain\":[0.9179999999999999,0.9999999999999999]},\"xaxis2\":{\"anchor\":\"y2\",\"domain\":[0.0,1.0]},\"yaxis2\":{\"anchor\":\"x2\",\"domain\":[0.8160000000000001,0.898]},\"xaxis3\":{\"anchor\":\"y3\",\"domain\":[0.0,1.0]},\"yaxis3\":{\"anchor\":\"x3\",\"domain\":[0.7140000000000001,0.796]},\"xaxis4\":{\"anchor\":\"y4\",\"domain\":[0.0,1.0]},\"yaxis4\":{\"anchor\":\"x4\",\"domain\":[0.6120000000000001,0.6940000000000001]},\"xaxis5\":{\"anchor\":\"y5\",\"domain\":[0.0,1.0]},\"yaxis5\":{\"anchor\":\"x5\",\"domain\":[0.51,0.592]},\"xaxis6\":{\"anchor\":\"y6\",\"domain\":[0.0,1.0]},\"yaxis6\":{\"anchor\":\"x6\",\"domain\":[0.40800000000000003,0.49000000000000005]},\"xaxis7\":{\"anchor\":\"y7\",\"domain\":[0.0,1.0]},\"yaxis7\":{\"anchor\":\"x7\",\"domain\":[0.306,0.388]},\"xaxis8\":{\"anchor\":\"y8\",\"domain\":[0.0,1.0]},\"yaxis8\":{\"anchor\":\"x8\",\"domain\":[0.20400000000000001,0.28600000000000003]},\"xaxis9\":{\"anchor\":\"y9\",\"domain\":[0.0,1.0]},\"yaxis9\":{\"anchor\":\"x9\",\"domain\":[0.10200000000000001,0.184]},\"xaxis10\":{\"anchor\":\"y10\",\"domain\":[0.0,1.0]},\"yaxis10\":{\"anchor\":\"x10\",\"domain\":[0.0,0.082]},\"annotations\":[{\"font\":{\"size\":16},\"showarrow\":false,\"text\":\"Word frequency for TA0001\",\"x\":0.5,\"xanchor\":\"center\",\"xref\":\"paper\",\"y\":0.9999999999999999,\"yanchor\":\"bottom\",\"yref\":\"paper\"},{\"font\":{\"size\":16},\"showarrow\":false,\"text\":\"Word frequency for TA0002\",\"x\":0.5,\"xanchor\":\"center\",\"xref\":\"paper\",\"y\":0.898,\"yanchor\":\"bottom\",\"yref\":\"paper\"},{\"font\":{\"size\":16},\"showarrow\":false,\"text\":\"Word frequency for TA0003\",\"x\":0.5,\"xanchor\":\"center\",\"xref\":\"paper\",\"y\":0.796,\"yanchor\":\"bottom\",\"yref\":\"paper\"},{\"font\":{\"size\":16},\"showarrow\":false,\"text\":\"Word frequency for TA0004\",\"x\":0.5,\"xanchor\":\"center\",\"xref\":\"paper\",\"y\":0.6940000000000001,\"yanchor\":\"bottom\",\"yref\":\"paper\"},{\"font\":{\"size\":16},\"showarrow\":false,\"text\":\"Word frequency for TA0005\",\"x\":0.5,\"xanchor\":\"center\",\"xref\":\"paper\",\"y\":0.592,\"yanchor\":\"bottom\",\"yref\":\"paper\"},{\"font\":{\"size\":16},\"showarrow\":false,\"text\":\"Word frequency for TA0006\",\"x\":0.5,\"xanchor\":\"center\",\"xref\":\"paper\",\"y\":0.49000000000000005,\"yanchor\":\"bottom\",\"yref\":\"paper\"},{\"font\":{\"size\":16},\"showarrow\":false,\"text\":\"Word frequency for TA0007\",\"x\":0.5,\"xanchor\":\"center\",\"xref\":\"paper\",\"y\":0.388,\"yanchor\":\"bottom\",\"yref\":\"paper\"},{\"font\":{\"size\":16},\"showarrow\":false,\"text\":\"Word frequency for TA0008\",\"x\":0.5,\"xanchor\":\"center\",\"xref\":\"paper\",\"y\":0.28600000000000003,\"yanchor\":\"bottom\",\"yref\":\"paper\"},{\"font\":{\"size\":16},\"showarrow\":false,\"text\":\"Word frequency for TA0009\",\"x\":0.5,\"xanchor\":\"center\",\"xref\":\"paper\",\"y\":0.184,\"yanchor\":\"bottom\",\"yref\":\"paper\"},{\"font\":{\"size\":16},\"showarrow\":false,\"text\":\"Word frequency for TA0010\",\"x\":0.5,\"xanchor\":\"center\",\"xref\":\"paper\",\"y\":0.082,\"yanchor\":\"bottom\",\"yref\":\"paper\"}],\"autosize\":false,\"width\":800,\"height\":4400},                        {\"responsive\": true}                    ).then(function(){\n",
       "                            \n",
       "var gd = document.getElementById('23fef44b-5980-461e-99ff-657e7195d3ab');\n",
       "var x = new MutationObserver(function (mutations, observer) {{\n",
       "        var display = window.getComputedStyle(gd).display;\n",
       "        if (!display || display === 'none') {{\n",
       "            console.log([gd, 'removed!']);\n",
       "            Plotly.purge(gd);\n",
       "            observer.disconnect();\n",
       "        }}\n",
       "}});\n",
       "\n",
       "// Listen for the removal of the full notebook cells\n",
       "var notebookContainer = gd.closest('#notebook-container');\n",
       "if (notebookContainer) {{\n",
       "    x.observe(notebookContainer, {childList: true});\n",
       "}}\n",
       "\n",
       "// Listen for the clearing of the current output cell\n",
       "var outputEl = gd.closest('.output');\n",
       "if (outputEl) {{\n",
       "    x.observe(outputEl, {childList: true});\n",
       "}}\n",
       "\n",
       "                        })                };                });            </script>        </div>"
      ]
     },
     "metadata": {},
     "output_type": "display_data"
    }
   ],
   "source": [
    "plot_freq_cats(df_agg.iloc[:10, :], y_col_name)"
   ]
  },
  {
   "cell_type": "code",
   "execution_count": 38,
   "id": "c9e909fb",
   "metadata": {
    "scrolled": true
   },
   "outputs": [
    {
     "data": {
      "text/plain": [
       "TA0005    822\n",
       "TA0003    561\n",
       "TA0004    558\n",
       "TA0002    499\n",
       "TA0011    491\n",
       "TA0007    486\n",
       "TA0009    343\n",
       "TA0006    322\n",
       "TA0040    154\n",
       "TA0010    141\n",
       "TA0001    135\n",
       "TA0008    118\n",
       "TA0042     55\n",
       "TA0108     36\n",
       "TA0043     32\n",
       "TA0105     28\n",
       "TA0100     22\n",
       "TA0107     20\n",
       "TA0104     12\n",
       "TA0103     10\n",
       "TA0102      9\n",
       "TA0109      9\n",
       "TA0110      7\n",
       "TA0106      6\n",
       "TA0101      5\n",
       "TA0111      1\n",
       "dtype: int64"
      ]
     },
     "execution_count": 38,
     "metadata": {},
     "output_type": "execute_result"
    }
   ],
   "source": [
    "# Plot the number of articles per technique: \n",
    "\n",
    "Y.sum(axis=0).sort_values(ascending=False)#.plot()\n",
    "\"\"\"\n",
    "TA0005    768\n",
    "TA0003    590\n",
    "TA0002    488\n",
    "TA0011    406\n",
    "TA0004    403\n",
    "TA0007    356\n",
    "TA0008    343\n",
    "TA0006    306\n",
    "TA0009    236\n",
    "TA0001    202\n",
    "TA0010    123\n",
    "TA0040     75\n",
    "dtype: int64\n",
    "\"\"\""
   ]
  },
  {
   "cell_type": "code",
   "execution_count": 39,
   "id": "e1a31474",
   "metadata": {},
   "outputs": [],
   "source": [
    "Y1 = Y.loc[:,Y.sum(axis=0)>=80] # only techniques with more than 25 reports\n",
    "Y = Y1[Y1.sum(axis=1)>0] \n",
    "X = X[Y1.sum(axis=1)>0] # all urls who map at least one of the techniques in Y1"
   ]
  },
  {
   "cell_type": "code",
   "execution_count": 40,
   "id": "f7bc0f2f",
   "metadata": {
    "scrolled": true
   },
   "outputs": [
    {
     "data": {
      "text/html": [
       "<div>\n",
       "<style scoped>\n",
       "    .dataframe tbody tr th:only-of-type {\n",
       "        vertical-align: middle;\n",
       "    }\n",
       "\n",
       "    .dataframe tbody tr th {\n",
       "        vertical-align: top;\n",
       "    }\n",
       "\n",
       "    .dataframe thead th {\n",
       "        text-align: right;\n",
       "    }\n",
       "</style>\n",
       "<table border=\"1\" class=\"dataframe\">\n",
       "  <thead>\n",
       "    <tr style=\"text-align: right;\">\n",
       "      <th></th>\n",
       "      <th>TA0001</th>\n",
       "      <th>TA0002</th>\n",
       "      <th>TA0003</th>\n",
       "      <th>TA0004</th>\n",
       "      <th>TA0005</th>\n",
       "      <th>TA0006</th>\n",
       "      <th>TA0007</th>\n",
       "      <th>TA0008</th>\n",
       "      <th>TA0009</th>\n",
       "      <th>TA0010</th>\n",
       "      <th>TA0011</th>\n",
       "      <th>TA0040</th>\n",
       "    </tr>\n",
       "  </thead>\n",
       "  <tbody>\n",
       "    <tr>\n",
       "      <th>0</th>\n",
       "      <td>0</td>\n",
       "      <td>0</td>\n",
       "      <td>1</td>\n",
       "      <td>1</td>\n",
       "      <td>1</td>\n",
       "      <td>0</td>\n",
       "      <td>0</td>\n",
       "      <td>0</td>\n",
       "      <td>0</td>\n",
       "      <td>0</td>\n",
       "      <td>0</td>\n",
       "      <td>1</td>\n",
       "    </tr>\n",
       "    <tr>\n",
       "      <th>1</th>\n",
       "      <td>0</td>\n",
       "      <td>0</td>\n",
       "      <td>0</td>\n",
       "      <td>0</td>\n",
       "      <td>1</td>\n",
       "      <td>0</td>\n",
       "      <td>0</td>\n",
       "      <td>0</td>\n",
       "      <td>0</td>\n",
       "      <td>0</td>\n",
       "      <td>0</td>\n",
       "      <td>1</td>\n",
       "    </tr>\n",
       "    <tr>\n",
       "      <th>2</th>\n",
       "      <td>0</td>\n",
       "      <td>1</td>\n",
       "      <td>0</td>\n",
       "      <td>1</td>\n",
       "      <td>1</td>\n",
       "      <td>0</td>\n",
       "      <td>1</td>\n",
       "      <td>0</td>\n",
       "      <td>1</td>\n",
       "      <td>0</td>\n",
       "      <td>1</td>\n",
       "      <td>1</td>\n",
       "    </tr>\n",
       "    <tr>\n",
       "      <th>3</th>\n",
       "      <td>0</td>\n",
       "      <td>0</td>\n",
       "      <td>0</td>\n",
       "      <td>0</td>\n",
       "      <td>0</td>\n",
       "      <td>0</td>\n",
       "      <td>0</td>\n",
       "      <td>0</td>\n",
       "      <td>0</td>\n",
       "      <td>0</td>\n",
       "      <td>0</td>\n",
       "      <td>1</td>\n",
       "    </tr>\n",
       "    <tr>\n",
       "      <th>4</th>\n",
       "      <td>0</td>\n",
       "      <td>0</td>\n",
       "      <td>0</td>\n",
       "      <td>0</td>\n",
       "      <td>0</td>\n",
       "      <td>1</td>\n",
       "      <td>0</td>\n",
       "      <td>0</td>\n",
       "      <td>0</td>\n",
       "      <td>0</td>\n",
       "      <td>0</td>\n",
       "      <td>0</td>\n",
       "    </tr>\n",
       "    <tr>\n",
       "      <th>...</th>\n",
       "      <td>...</td>\n",
       "      <td>...</td>\n",
       "      <td>...</td>\n",
       "      <td>...</td>\n",
       "      <td>...</td>\n",
       "      <td>...</td>\n",
       "      <td>...</td>\n",
       "      <td>...</td>\n",
       "      <td>...</td>\n",
       "      <td>...</td>\n",
       "      <td>...</td>\n",
       "      <td>...</td>\n",
       "    </tr>\n",
       "    <tr>\n",
       "      <th>1515</th>\n",
       "      <td>1</td>\n",
       "      <td>1</td>\n",
       "      <td>1</td>\n",
       "      <td>1</td>\n",
       "      <td>1</td>\n",
       "      <td>1</td>\n",
       "      <td>1</td>\n",
       "      <td>1</td>\n",
       "      <td>1</td>\n",
       "      <td>0</td>\n",
       "      <td>1</td>\n",
       "      <td>0</td>\n",
       "    </tr>\n",
       "    <tr>\n",
       "      <th>1516</th>\n",
       "      <td>0</td>\n",
       "      <td>1</td>\n",
       "      <td>1</td>\n",
       "      <td>1</td>\n",
       "      <td>1</td>\n",
       "      <td>0</td>\n",
       "      <td>0</td>\n",
       "      <td>0</td>\n",
       "      <td>0</td>\n",
       "      <td>0</td>\n",
       "      <td>1</td>\n",
       "      <td>0</td>\n",
       "    </tr>\n",
       "    <tr>\n",
       "      <th>1517</th>\n",
       "      <td>0</td>\n",
       "      <td>0</td>\n",
       "      <td>0</td>\n",
       "      <td>0</td>\n",
       "      <td>0</td>\n",
       "      <td>0</td>\n",
       "      <td>0</td>\n",
       "      <td>0</td>\n",
       "      <td>0</td>\n",
       "      <td>0</td>\n",
       "      <td>1</td>\n",
       "      <td>0</td>\n",
       "    </tr>\n",
       "    <tr>\n",
       "      <th>1518</th>\n",
       "      <td>0</td>\n",
       "      <td>1</td>\n",
       "      <td>1</td>\n",
       "      <td>0</td>\n",
       "      <td>1</td>\n",
       "      <td>0</td>\n",
       "      <td>1</td>\n",
       "      <td>0</td>\n",
       "      <td>1</td>\n",
       "      <td>0</td>\n",
       "      <td>1</td>\n",
       "      <td>0</td>\n",
       "    </tr>\n",
       "    <tr>\n",
       "      <th>1519</th>\n",
       "      <td>0</td>\n",
       "      <td>1</td>\n",
       "      <td>1</td>\n",
       "      <td>1</td>\n",
       "      <td>1</td>\n",
       "      <td>1</td>\n",
       "      <td>0</td>\n",
       "      <td>0</td>\n",
       "      <td>1</td>\n",
       "      <td>1</td>\n",
       "      <td>1</td>\n",
       "      <td>0</td>\n",
       "    </tr>\n",
       "  </tbody>\n",
       "</table>\n",
       "<p>1350 rows × 12 columns</p>\n",
       "</div>"
      ],
      "text/plain": [
       "      TA0001  TA0002  TA0003  TA0004  TA0005  TA0006  TA0007  TA0008  TA0009  \\\n",
       "0          0       0       1       1       1       0       0       0       0   \n",
       "1          0       0       0       0       1       0       0       0       0   \n",
       "2          0       1       0       1       1       0       1       0       1   \n",
       "3          0       0       0       0       0       0       0       0       0   \n",
       "4          0       0       0       0       0       1       0       0       0   \n",
       "...      ...     ...     ...     ...     ...     ...     ...     ...     ...   \n",
       "1515       1       1       1       1       1       1       1       1       1   \n",
       "1516       0       1       1       1       1       0       0       0       0   \n",
       "1517       0       0       0       0       0       0       0       0       0   \n",
       "1518       0       1       1       0       1       0       1       0       1   \n",
       "1519       0       1       1       1       1       1       0       0       1   \n",
       "\n",
       "      TA0010  TA0011  TA0040  \n",
       "0          0       0       1  \n",
       "1          0       0       1  \n",
       "2          0       1       1  \n",
       "3          0       0       1  \n",
       "4          0       0       0  \n",
       "...      ...     ...     ...  \n",
       "1515       0       1       0  \n",
       "1516       0       1       0  \n",
       "1517       0       1       0  \n",
       "1518       0       1       0  \n",
       "1519       1       1       0  \n",
       "\n",
       "[1350 rows x 12 columns]"
      ]
     },
     "execution_count": 40,
     "metadata": {},
     "output_type": "execute_result"
    }
   ],
   "source": [
    "Y1[Y1.sum(axis=1) > 0]"
   ]
  },
  {
   "cell_type": "markdown",
   "id": "b89b027c",
   "metadata": {},
   "source": [
    "# Model: "
   ]
  },
  {
   "cell_type": "code",
   "execution_count": 43,
   "id": "744dd61d",
   "metadata": {},
   "outputs": [
    {
     "data": {
      "text/plain": [
       "OneVsRestClassifier(estimator=LinearSVC(class_weight='balanced', dual=False),\n",
       "                    n_jobs=1)"
      ]
     },
     "execution_count": 43,
     "metadata": {},
     "output_type": "execute_result"
    }
   ],
   "source": [
    "\n",
    "# Train and test: First delete techniques less than 9 \n",
    "\n",
    "# We fix the random state to have the same dataset in our different tests\n",
    "\n",
    "x_train, x_test, y_train, y_test = train_test_split(X, Y, test_size=0.3,\n",
    "                                                    random_state = 10)\n",
    "\n",
    "sv_classifier = OneVsRestClassifier(LinearSVC(penalty = 'l2', loss = 'squared_hinge', dual = False, max_iter = 1000, class_weight = 'balanced'), n_jobs = 1)\n",
    "sv_classifier.fit(x_train, y_train)\n",
    "\n"
   ]
  },
  {
   "cell_type": "code",
   "execution_count": 55,
   "id": "a24052f3",
   "metadata": {},
   "outputs": [],
   "source": [
    "y_pred = pd.DataFrame(sv_classifier.predict(x_train), columns=y_train.columns)"
   ]
  },
  {
   "cell_type": "code",
   "execution_count": 50,
   "id": "81e1ac54",
   "metadata": {},
   "outputs": [
    {
     "name": "stdout",
     "output_type": "stream",
     "text": [
      "TA0001\n",
      "              precision    recall  f1-score   support\n",
      "\n",
      "           0       1.00      0.98      0.99       841\n",
      "           1       0.89      1.00      0.94       104\n",
      "\n",
      "    accuracy                           0.99       945\n",
      "   macro avg       0.94      0.99      0.97       945\n",
      "weighted avg       0.99      0.99      0.99       945\n",
      "\n",
      "TA0002\n",
      "              precision    recall  f1-score   support\n",
      "\n",
      "           0       1.00      0.97      0.98       610\n",
      "           1       0.94      1.00      0.97       335\n",
      "\n",
      "    accuracy                           0.98       945\n",
      "   macro avg       0.97      0.98      0.98       945\n",
      "weighted avg       0.98      0.98      0.98       945\n",
      "\n",
      "TA0003\n",
      "              precision    recall  f1-score   support\n",
      "\n",
      "           0       0.99      0.97      0.98       559\n",
      "           1       0.96      0.99      0.97       386\n",
      "\n",
      "    accuracy                           0.98       945\n",
      "   macro avg       0.98      0.98      0.98       945\n",
      "weighted avg       0.98      0.98      0.98       945\n",
      "\n",
      "TA0004\n",
      "              precision    recall  f1-score   support\n",
      "\n",
      "           0       1.00      0.97      0.98       572\n",
      "           1       0.95      0.99      0.97       373\n",
      "\n",
      "    accuracy                           0.98       945\n",
      "   macro avg       0.97      0.98      0.98       945\n",
      "weighted avg       0.98      0.98      0.98       945\n",
      "\n",
      "TA0005\n",
      "              precision    recall  f1-score   support\n",
      "\n",
      "           0       0.99      0.98      0.99       375\n",
      "           1       0.99      0.99      0.99       570\n",
      "\n",
      "    accuracy                           0.99       945\n",
      "   macro avg       0.99      0.99      0.99       945\n",
      "weighted avg       0.99      0.99      0.99       945\n",
      "\n",
      "TA0006\n",
      "              precision    recall  f1-score   support\n",
      "\n",
      "           0       1.00      0.98      0.99       723\n",
      "           1       0.93      1.00      0.96       222\n",
      "\n",
      "    accuracy                           0.98       945\n",
      "   macro avg       0.96      0.99      0.97       945\n",
      "weighted avg       0.98      0.98      0.98       945\n",
      "\n",
      "TA0007\n",
      "              precision    recall  f1-score   support\n",
      "\n",
      "           0       1.00      0.97      0.98       615\n",
      "           1       0.95      0.99      0.97       330\n",
      "\n",
      "    accuracy                           0.98       945\n",
      "   macro avg       0.97      0.98      0.98       945\n",
      "weighted avg       0.98      0.98      0.98       945\n",
      "\n",
      "TA0008\n",
      "              precision    recall  f1-score   support\n",
      "\n",
      "           0       1.00      0.98      0.99       851\n",
      "           1       0.88      1.00      0.94        94\n",
      "\n",
      "    accuracy                           0.99       945\n",
      "   macro avg       0.94      0.99      0.96       945\n",
      "weighted avg       0.99      0.99      0.99       945\n",
      "\n",
      "TA0009\n",
      "              precision    recall  f1-score   support\n",
      "\n",
      "           0       1.00      0.97      0.98       707\n",
      "           1       0.91      1.00      0.95       238\n",
      "\n",
      "    accuracy                           0.97       945\n",
      "   macro avg       0.95      0.98      0.97       945\n",
      "weighted avg       0.98      0.97      0.97       945\n",
      "\n",
      "TA0010\n",
      "              precision    recall  f1-score   support\n",
      "\n",
      "           0       1.00      0.98      0.99       852\n",
      "           1       0.85      1.00      0.92        93\n",
      "\n",
      "    accuracy                           0.98       945\n",
      "   macro avg       0.93      0.99      0.96       945\n",
      "weighted avg       0.99      0.98      0.98       945\n",
      "\n",
      "TA0011\n",
      "              precision    recall  f1-score   support\n",
      "\n",
      "           0       1.00      0.97      0.98       621\n",
      "           1       0.94      1.00      0.97       324\n",
      "\n",
      "    accuracy                           0.98       945\n",
      "   macro avg       0.97      0.98      0.98       945\n",
      "weighted avg       0.98      0.98      0.98       945\n",
      "\n",
      "TA0040\n",
      "              precision    recall  f1-score   support\n",
      "\n",
      "           0       1.00      0.99      0.99       836\n",
      "           1       0.92      1.00      0.96       109\n",
      "\n",
      "    accuracy                           0.99       945\n",
      "   macro avg       0.96      0.99      0.98       945\n",
      "weighted avg       0.99      0.99      0.99       945\n",
      "\n"
     ]
    }
   ],
   "source": [
    "f_score_dict = {}\n",
    "for col in y_test.columns:\n",
    "    print(col)\n",
    "    f_score_dict[col] = fbeta_score(y_train[col], y_pred[col],beta=0.5)\n",
    "    print(classification_report(y_train[col], y_pred[col]))"
   ]
  },
  {
   "cell_type": "code",
   "execution_count": 51,
   "id": "a1095da1",
   "metadata": {},
   "outputs": [],
   "source": [
    "y_pred = pd.DataFrame(sv_classifier.predict(x_test), columns=y_test.columns)"
   ]
  },
  {
   "cell_type": "code",
   "execution_count": 52,
   "id": "723c700e",
   "metadata": {},
   "outputs": [
    {
     "name": "stdout",
     "output_type": "stream",
     "text": [
      "TA0001\n",
      "              precision    recall  f1-score   support\n",
      "\n",
      "           0       0.95      0.95      0.95       374\n",
      "           1       0.37      0.35      0.36        31\n",
      "\n",
      "    accuracy                           0.90       405\n",
      "   macro avg       0.66      0.65      0.65       405\n",
      "weighted avg       0.90      0.90      0.90       405\n",
      "\n",
      "TA0002\n",
      "              precision    recall  f1-score   support\n",
      "\n",
      "           0       0.76      0.77      0.77       241\n",
      "           1       0.66      0.64      0.65       164\n",
      "\n",
      "    accuracy                           0.72       405\n",
      "   macro avg       0.71      0.71      0.71       405\n",
      "weighted avg       0.72      0.72      0.72       405\n",
      "\n",
      "TA0003\n",
      "              precision    recall  f1-score   support\n",
      "\n",
      "           0       0.70      0.71      0.70       230\n",
      "           1       0.61      0.59      0.60       175\n",
      "\n",
      "    accuracy                           0.66       405\n",
      "   macro avg       0.65      0.65      0.65       405\n",
      "weighted avg       0.66      0.66      0.66       405\n",
      "\n",
      "TA0004\n",
      "              precision    recall  f1-score   support\n",
      "\n",
      "           0       0.69      0.74      0.71       220\n",
      "           1       0.66      0.61      0.63       185\n",
      "\n",
      "    accuracy                           0.68       405\n",
      "   macro avg       0.67      0.67      0.67       405\n",
      "weighted avg       0.68      0.68      0.68       405\n",
      "\n",
      "TA0005\n",
      "              precision    recall  f1-score   support\n",
      "\n",
      "           0       0.66      0.63      0.64       153\n",
      "           1       0.78      0.80      0.79       252\n",
      "\n",
      "    accuracy                           0.74       405\n",
      "   macro avg       0.72      0.72      0.72       405\n",
      "weighted avg       0.73      0.74      0.73       405\n",
      "\n",
      "TA0006\n",
      "              precision    recall  f1-score   support\n",
      "\n",
      "           0       0.83      0.91      0.87       305\n",
      "           1       0.62      0.43      0.51       100\n",
      "\n",
      "    accuracy                           0.80       405\n",
      "   macro avg       0.73      0.67      0.69       405\n",
      "weighted avg       0.78      0.80      0.78       405\n",
      "\n",
      "TA0007\n",
      "              precision    recall  f1-score   support\n",
      "\n",
      "           0       0.81      0.80      0.81       249\n",
      "           1       0.69      0.71      0.70       156\n",
      "\n",
      "    accuracy                           0.76       405\n",
      "   macro avg       0.75      0.75      0.75       405\n",
      "weighted avg       0.76      0.76      0.76       405\n",
      "\n",
      "TA0008\n",
      "              precision    recall  f1-score   support\n",
      "\n",
      "           0       0.95      0.97      0.96       381\n",
      "           1       0.33      0.25      0.29        24\n",
      "\n",
      "    accuracy                           0.93       405\n",
      "   macro avg       0.64      0.61      0.62       405\n",
      "weighted avg       0.92      0.93      0.92       405\n",
      "\n",
      "TA0009\n",
      "              precision    recall  f1-score   support\n",
      "\n",
      "           0       0.84      0.83      0.83       300\n",
      "           1       0.52      0.53      0.53       105\n",
      "\n",
      "    accuracy                           0.75       405\n",
      "   macro avg       0.68      0.68      0.68       405\n",
      "weighted avg       0.75      0.75      0.75       405\n",
      "\n",
      "TA0010\n",
      "              precision    recall  f1-score   support\n",
      "\n",
      "           0       0.89      0.92      0.91       357\n",
      "           1       0.23      0.17      0.19        48\n",
      "\n",
      "    accuracy                           0.83       405\n",
      "   macro avg       0.56      0.55      0.55       405\n",
      "weighted avg       0.81      0.83      0.82       405\n",
      "\n",
      "TA0011\n",
      "              precision    recall  f1-score   support\n",
      "\n",
      "           0       0.81      0.80      0.80       238\n",
      "           1       0.72      0.72      0.72       167\n",
      "\n",
      "    accuracy                           0.77       405\n",
      "   macro avg       0.76      0.76      0.76       405\n",
      "weighted avg       0.77      0.77      0.77       405\n",
      "\n",
      "TA0040\n",
      "              precision    recall  f1-score   support\n",
      "\n",
      "           0       0.94      0.97      0.95       360\n",
      "           1       0.67      0.53      0.59        45\n",
      "\n",
      "    accuracy                           0.92       405\n",
      "   macro avg       0.80      0.75      0.77       405\n",
      "weighted avg       0.91      0.92      0.91       405\n",
      "\n"
     ]
    }
   ],
   "source": [
    "f_score_dict = {}\n",
    "for col in y_test.columns:\n",
    "    print(col)\n",
    "    # f beta score: weighted harmonic mean of precision and recall (similar to legoy)\n",
    "    f_score_dict[col] = fbeta_score(y_test[col], y_pred[col],beta=0.5)\n",
    "    print(classification_report(y_test[col], y_pred[col]))"
   ]
  },
  {
   "cell_type": "code",
   "execution_count": 53,
   "id": "43e309cd",
   "metadata": {},
   "outputs": [
    {
     "data": {
      "text/plain": [
       "{'TA0001': 0.36423841059602646,\n",
       " 'TA0002': 0.6529850746268657,\n",
       " 'TA0003': 0.6053550640279394,\n",
       " 'TA0004': 0.6473988439306358,\n",
       " 'TA0005': 0.78515625,\n",
       " 'TA0006': 0.571808510638298,\n",
       " 'TA0007': 0.6909547738693468,\n",
       " 'TA0008': 0.3125,\n",
       " 'TA0009': 0.521415270018622,\n",
       " 'TA0010': 0.2127659574468085,\n",
       " 'TA0011': 0.7176749703440094,\n",
       " 'TA0040': 0.6349206349206349}"
      ]
     },
     "execution_count": 53,
     "metadata": {},
     "output_type": "execute_result"
    }
   ],
   "source": [
    "f_score_dict"
   ]
  },
  {
   "cell_type": "code",
   "execution_count": 54,
   "id": "97b222a7",
   "metadata": {},
   "outputs": [
    {
     "data": {
      "text/plain": [
       "0.5597644800349322"
      ]
     },
     "execution_count": 54,
     "metadata": {},
     "output_type": "execute_result"
    }
   ],
   "source": [
    "np.mean(list(f_score_dict.values()))"
   ]
  },
  {
   "cell_type": "code",
   "execution_count": 44,
   "id": "79f98513",
   "metadata": {},
   "outputs": [
    {
     "data": {
      "text/plain": [
       "malware_name    -8.926368\n",
       "malware         -9.684824\n",
       "figure          -9.798373\n",
       "file            -9.823947\n",
       "exe             -9.970309\n",
       "security       -10.024613\n",
       "threat         -10.102563\n",
       "data           -10.145757\n",
       "used           -10.174743\n",
       "dll            -10.186079\n",
       "com            -10.187316\n",
       "backdoor       -10.196884\n",
       "server         -10.283662\n",
       "command        -10.289561\n",
       "apt            -10.349288\n",
       "files          -10.420309\n",
       "powershell     -10.424656\n",
       "windows        -10.438944\n",
       "malicious      -10.453184\n",
       "using          -10.477197\n",
       "dtype: float64"
      ]
     },
     "execution_count": 44,
     "metadata": {},
     "output_type": "execute_result"
    }
   ],
   "source": [
    "label_index = list(y_test.columns).index('T1059')\n",
    "s = pd.Series(naive_bayes_classifier.estimators_[label_index].feature_log_prob_[1], index=x_test.columns)\n",
    "s.sort_values(ascending=False)[:20]"
   ]
  },
  {
   "cell_type": "code",
   "execution_count": 45,
   "id": "a0eb2c10",
   "metadata": {},
   "outputs": [
    {
     "data": {
      "text/plain": [
       "malware_name   -8.580369\n",
       "malware        -9.071352\n",
       "file           -9.104083\n",
       "security       -9.200999\n",
       "exe            -9.394428\n",
       "windows        -9.481843\n",
       "com            -9.569012\n",
       "figure         -9.631102\n",
       "threat         -9.632430\n",
       "data           -9.644766\n",
       "used           -9.660471\n",
       "dll            -9.686135\n",
       "process        -9.721100\n",
       "ransomware     -9.747026\n",
       "files          -9.785526\n",
       "user           -9.808118\n",
       "using          -9.836171\n",
       "code           -9.847254\n",
       "new            -9.861232\n",
       "mandiant       -9.881338\n",
       "dtype: float64"
      ]
     },
     "execution_count": 45,
     "metadata": {},
     "output_type": "execute_result"
    }
   ],
   "source": [
    "label_index = list(y_test.columns).index('T1059')\n",
    "s = pd.Series(naive_bayes_classifier